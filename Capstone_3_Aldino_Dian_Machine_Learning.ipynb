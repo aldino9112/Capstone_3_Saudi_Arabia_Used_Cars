{
 "cells": [
  {
   "cell_type": "markdown",
   "id": "86a3ef4c",
   "metadata": {},
   "source": [
    "# **Saudi Arabia Used Cars**"
   ]
  },
  {
   "cell_type": "markdown",
   "id": "b764a9af",
   "metadata": {},
   "source": [
    "## **Contents**\n",
    "\n",
    "1. Business Problem Understanding\n",
    "2. Data Understanding\n",
    "3. Data Preprocessing\n",
    "4. Modeling\n",
    "5. Conclusion\n",
    "6. Recommendation\n",
    "\n",
    "****"
   ]
  },
  {
   "cell_type": "markdown",
   "id": "d3a3bdd1",
   "metadata": {},
   "source": [
    "## **Business Problem Understanding**"
   ]
  },
  {
   "cell_type": "markdown",
   "id": "864c5e82",
   "metadata": {},
   "source": [
    "### **Context**\n",
    "\n",
    "Pasar mobil bekas di Arab Saudi mengalami pertumbuhan pesat dalam beberapa tahun terakhir. Menurut laporan dari [IMARC Group](https://www.imarcgroup.com/saudi-arabia-used-car-market), nilai pasar mobil bekas di Arab Saudi mencapai USD 9,6 miliar pada tahun 2024 dan diperkirakan akan meningkat menjadi USD 16,8 miliar pada tahun 2033, dengan tingkat pertumbuhan tahunan gabungan (CAGR) sebesar 6,43%. Pertumbuhan ini didorong oleh beberapa faktor, termasuk kenaikan harga mobil baru, peningkatan pajak pertambahan nilai (PPN) menjadi 15%, dan preferensi konsumen terhadap solusi transportasi yang lebih terjangkau.\n",
    "\n",
    "Platform daring seperti [Syarah.com](https://syarah.com/en) telah memudahkan proses jual beli mobil bekas di Arab Saudi. Syarah menawarkan berbagai fitur, termasuk inspeksi kendaraan, garansi satu tahun, dan pengiriman langsung ke rumah pembeli, yang meningkatkan kepercayaan konsumen dalam membeli mobil bekas secara online. Pada tahun 2024, Syarah berhasil mengumpulkan pendanaan sebesar USD 60 juta dalam putaran Seri C untuk mendukung ekspansi dan peningkatan layanan mereka.\n",
    "\n",
    "Namun, meskipun platform-platform ini memudahkan transaksi, penentuan harga mobil bekas tetap menjadi tantangan bagi penjual. Harga yang terlalu tinggi dapat membuat mobil sulit terjual, sementara harga yang terlalu rendah dapat merugikan penjual. Selain itu, faktor-faktor seperti merek, tahun produksi, jarak tempuh, dan kondisi kendaraan memainkan peran penting dalam menentukan nilai pasar sebuah mobil bekas.\n",
    "\n",
    "Untuk mengatasi tantangan ini, diperlukan model prediksi harga mobil bekas yang dapat membantu penjual menetapkan harga yang kompetitif dan wajar berdasarkan karakteristik kendaraan. Model semacam ini tidak hanya bermanfaat bagi penjual, tetapi juga bagi pembeli yang ingin memastikan bahwa mereka mendapatkan nilai terbaik untuk uang mereka.\n",
    "\n"
   ]
  },
  {
   "cell_type": "markdown",
   "id": "5809d89f",
   "metadata": {},
   "source": [
    "### **Goals**\n",
    "\n",
    "Berdasarkan permasalahan tersebut, penjual mobil bekas di Arab Saudi memerlukan **sebuah alat prediksi yang dapat membantu mereka menentukan harga jual mobil bekas secara tepat dan kompetitif**. Mengingat adanya perbedaan karakteristik pada setiap mobil, seperti merek, tahun pembuatan, kapasitas mesin, transmisi, asal kendaraan, hingga jumlah kilometer yang telah ditempuh, maka penting untuk mempertimbangkan faktor-faktor ini dalam proses penentuan harga.\n",
    "\n",
    "Dengan adanya *prediction tool* yang akurat dan berbasis data, penjual — baik individu maupun dealer — dapat menetapkan harga yang wajar, yang tidak hanya mempercepat proses penjualan, tetapi juga memaksimalkan potensi keuntungan. Di sisi lain, pembeli pun akan merasa lebih percaya diri karena mengetahui bahwa harga yang mereka bayarkan sesuai dengan kondisi dan nilai pasar kendaraan.\n",
    "\n",
    "Bagi platform seperti **Syarah.com**, alat prediksi harga ini dapat meningkatkan pengalaman pengguna, memperkuat kepercayaan pelanggan, serta menarik lebih banyak listing dan transaksi di platform mereka. Hal ini pada akhirnya akan berkontribusi terhadap pertumbuhan bisnis dan pendapatan platform secara keseluruhan."
   ]
  },
  {
   "cell_type": "markdown",
   "id": "ee106c21",
   "metadata": {},
   "source": [
    "### **Analytic Approach**\n",
    "\n",
    "Langkah pertama yang perlu dilakukan adalah menganalisis data untuk mengidentifikasi pola dan hubungan antara fitur-fitur mobil, seperti merek, tahun pembuatan, jenis transmisi, kapasitas mesin, asal kendaraan, opsi tambahan, serta jarak tempuh. Analisis ini bertujuan untuk memahami bagaimana masing-masing fitur berkontribusi terhadap variasi harga mobil bekas di pasar.\n",
    "\n",
    "Setelah pola tersebut ditemukan, kita akan membangun sebuah model regresi yang mampu memprediksi harga mobil bekas berdasarkan karakteristik yang dimiliki oleh mobil tersebut. Model ini akan berperan sebagai *prediction tool* yang dapat digunakan oleh penjual, dealer, maupun platform seperti Syarah untuk memperkirakan harga jual yang wajar dan kompetitif bagi mobil yang baru akan ditawarkan. Dengan begitu, proses penentuan harga menjadi lebih objektif, efisien, dan menguntungkan semua pihak yang terlibat."
   ]
  },
  {
   "cell_type": "markdown",
   "id": "a4ed5215",
   "metadata": {
    "vscode": {
     "languageId": "plaintext"
    }
   },
   "source": [
    "### **Metric Evaluation**\n",
    "\n",
    "Evaluasi metrik yang akan digunakan adalah RMSE, MAE, dan MAPE, di mana:\n",
    "\n",
    "RMSE (Root Mean Squared Error) adalah nilai rataan akar kuadrat dari error,\n",
    "\n",
    "MAE (Mean Absolute Error) adalah rataan nilai absolut dari error, dan\n",
    "\n",
    "MAPE (Mean Absolute Percentage Error) adalah rataan persentase error yang dihasilkan oleh model regresi.\n",
    "\n",
    "Semakin kecil nilai RMSE, MAE, dan MAPE yang dihasilkan, berarti model semakin akurat dalam memprediksi harga mobil bekas sesuai dengan fitur-fitur yang digunakan.\n",
    "\n",
    "Selain itu, kita juga dapat menggunakan nilai R-squared (R²) atau adjusted R-squared jika model yang dipilih sebagai final model adalah model linear. Nilai R-squared digunakan untuk mengukur seberapa baik model dapat merepresentasikan varians keseluruhan dari data. Semakin mendekati 1, maka semakin baik pula tingkat kecocokan model terhadap data observasi. Namun demikian, metrik ini tidak valid digunakan untuk model non-linear.\n",
    "\n"
   ]
  },
  {
   "cell_type": "markdown",
   "id": "1448bf9d",
   "metadata": {},
   "source": [
    "## **Data Understanding**"
   ]
  },
  {
   "cell_type": "markdown",
   "id": "e0380809",
   "metadata": {},
   "source": [
    "Dataset ini berisi 5.624 data mobil bekas yang dikumpulkan dari situs syarah.com. Setiap baris merepresentasikan satu mobil bekas, termasuk informasi seperti merek, model, tahun pembuatan, asal mobil, opsi fitur, kapasitas mesin, jenis transmisi, jarak tempuh, harga sesuai wilayah, dan status negosiasi harga. Setiap baris data merepresentasikan informasi terkait properti dan pemiliknya."
   ]
  },
  {
   "cell_type": "markdown",
   "id": "65fbffd3",
   "metadata": {},
   "source": [
    "**Attributes Information**\n",
    "\n",
    "| **Attribute** | **Data Type** | **Description** |\n",
    "| --- | --- | --- |\n",
    "| Type | Object | Jenis mobil bekas\n",
    "| Region | Object | Wilayah tempat mobil ditawarkan\n",
    "| Make | Object | Nama perusahaan atau merek mobil\n",
    "| Gear_Type | Object | Jenis transmisi mobil\n",
    "| Origin | Object | Asal mobil (lokal atau impor)\n",
    "| Options | Object | Opsi atau fitur tambahan pada mobil\n",
    "| Year | Integer | Tahun pembuatan mobil\n",
    "| Engine_Size | Float | Kapasitas mesin mobil dalam liter\n",
    "| Mileage | Integer | Jarak tempuh yang telah dilalui mobil (dalam km)\n",
    "| Negotiable | \tBoolean\t| Menunjukkan apakah harga bisa dinegosiasikan (True jika 0)\n",
    "| Price\t| Integer | Harga mobil bekas dalam satuan mata uang lokal"
   ]
  },
  {
   "cell_type": "code",
   "execution_count": 542,
   "id": "f553ded9",
   "metadata": {},
   "outputs": [],
   "source": [
    "# Import library yang dibutuhkan untuk eksplorasi dataset\n",
    "import pandas as pd \n",
    "import numpy as np\n",
    "import matplotlib.pyplot as plt\n",
    "import seaborn as sns\n",
    "\n",
    "import warnings\n",
    "warnings.filterwarnings('ignore')"
   ]
  },
  {
   "cell_type": "code",
   "execution_count": 543,
   "id": "a462ef2c",
   "metadata": {},
   "outputs": [
    {
     "data": {
      "application/vnd.microsoft.datawrangler.viewer.v0+json": {
       "columns": [
        {
         "name": "index",
         "rawType": "int64",
         "type": "integer"
        },
        {
         "name": "Type",
         "rawType": "object",
         "type": "string"
        },
        {
         "name": "Region",
         "rawType": "object",
         "type": "string"
        },
        {
         "name": "Make",
         "rawType": "object",
         "type": "string"
        },
        {
         "name": "Gear_Type",
         "rawType": "object",
         "type": "string"
        },
        {
         "name": "Origin",
         "rawType": "object",
         "type": "string"
        },
        {
         "name": "Options",
         "rawType": "object",
         "type": "string"
        },
        {
         "name": "Year",
         "rawType": "int64",
         "type": "integer"
        },
        {
         "name": "Engine_Size",
         "rawType": "float64",
         "type": "float"
        },
        {
         "name": "Mileage",
         "rawType": "int64",
         "type": "integer"
        },
        {
         "name": "Negotiable",
         "rawType": "bool",
         "type": "boolean"
        },
        {
         "name": "Price",
         "rawType": "int64",
         "type": "integer"
        }
       ],
       "conversionMethod": "pd.DataFrame",
       "ref": "c5f3104e-8bff-429f-b9cb-7c91483d51cc",
       "rows": [
        [
         "0",
         "Corolla",
         "Abha",
         "Toyota",
         "Manual",
         "Saudi",
         "Standard",
         "2013",
         "1.4",
         "421000",
         "True",
         "0"
        ],
        [
         "1",
         "Yukon",
         "Riyadh",
         "GMC",
         "Automatic",
         "Saudi",
         "Full",
         "2014",
         "8.0",
         "80000",
         "False",
         "120000"
        ],
        [
         "2",
         "Range Rover",
         "Riyadh",
         "Land Rover",
         "Automatic",
         "Gulf Arabic",
         "Full",
         "2015",
         "5.0",
         "140000",
         "False",
         "260000"
        ],
        [
         "3",
         "Optima",
         "Hafar Al-Batin",
         "Kia",
         "Automatic",
         "Saudi",
         "Semi Full",
         "2015",
         "2.4",
         "220000",
         "False",
         "42000"
        ],
        [
         "4",
         "FJ",
         "Riyadh",
         "Toyota",
         "Automatic",
         "Saudi",
         "Full",
         "2020",
         "4.0",
         "49000",
         "True",
         "0"
        ]
       ],
       "shape": {
        "columns": 11,
        "rows": 5
       }
      },
      "text/html": [
       "<div>\n",
       "<style scoped>\n",
       "    .dataframe tbody tr th:only-of-type {\n",
       "        vertical-align: middle;\n",
       "    }\n",
       "\n",
       "    .dataframe tbody tr th {\n",
       "        vertical-align: top;\n",
       "    }\n",
       "\n",
       "    .dataframe thead th {\n",
       "        text-align: right;\n",
       "    }\n",
       "</style>\n",
       "<table border=\"1\" class=\"dataframe\">\n",
       "  <thead>\n",
       "    <tr style=\"text-align: right;\">\n",
       "      <th></th>\n",
       "      <th>Type</th>\n",
       "      <th>Region</th>\n",
       "      <th>Make</th>\n",
       "      <th>Gear_Type</th>\n",
       "      <th>Origin</th>\n",
       "      <th>Options</th>\n",
       "      <th>Year</th>\n",
       "      <th>Engine_Size</th>\n",
       "      <th>Mileage</th>\n",
       "      <th>Negotiable</th>\n",
       "      <th>Price</th>\n",
       "    </tr>\n",
       "  </thead>\n",
       "  <tbody>\n",
       "    <tr>\n",
       "      <th>0</th>\n",
       "      <td>Corolla</td>\n",
       "      <td>Abha</td>\n",
       "      <td>Toyota</td>\n",
       "      <td>Manual</td>\n",
       "      <td>Saudi</td>\n",
       "      <td>Standard</td>\n",
       "      <td>2013</td>\n",
       "      <td>1.4</td>\n",
       "      <td>421000</td>\n",
       "      <td>True</td>\n",
       "      <td>0</td>\n",
       "    </tr>\n",
       "    <tr>\n",
       "      <th>1</th>\n",
       "      <td>Yukon</td>\n",
       "      <td>Riyadh</td>\n",
       "      <td>GMC</td>\n",
       "      <td>Automatic</td>\n",
       "      <td>Saudi</td>\n",
       "      <td>Full</td>\n",
       "      <td>2014</td>\n",
       "      <td>8.0</td>\n",
       "      <td>80000</td>\n",
       "      <td>False</td>\n",
       "      <td>120000</td>\n",
       "    </tr>\n",
       "    <tr>\n",
       "      <th>2</th>\n",
       "      <td>Range Rover</td>\n",
       "      <td>Riyadh</td>\n",
       "      <td>Land Rover</td>\n",
       "      <td>Automatic</td>\n",
       "      <td>Gulf Arabic</td>\n",
       "      <td>Full</td>\n",
       "      <td>2015</td>\n",
       "      <td>5.0</td>\n",
       "      <td>140000</td>\n",
       "      <td>False</td>\n",
       "      <td>260000</td>\n",
       "    </tr>\n",
       "    <tr>\n",
       "      <th>3</th>\n",
       "      <td>Optima</td>\n",
       "      <td>Hafar Al-Batin</td>\n",
       "      <td>Kia</td>\n",
       "      <td>Automatic</td>\n",
       "      <td>Saudi</td>\n",
       "      <td>Semi Full</td>\n",
       "      <td>2015</td>\n",
       "      <td>2.4</td>\n",
       "      <td>220000</td>\n",
       "      <td>False</td>\n",
       "      <td>42000</td>\n",
       "    </tr>\n",
       "    <tr>\n",
       "      <th>4</th>\n",
       "      <td>FJ</td>\n",
       "      <td>Riyadh</td>\n",
       "      <td>Toyota</td>\n",
       "      <td>Automatic</td>\n",
       "      <td>Saudi</td>\n",
       "      <td>Full</td>\n",
       "      <td>2020</td>\n",
       "      <td>4.0</td>\n",
       "      <td>49000</td>\n",
       "      <td>True</td>\n",
       "      <td>0</td>\n",
       "    </tr>\n",
       "  </tbody>\n",
       "</table>\n",
       "</div>"
      ],
      "text/plain": [
       "          Type          Region        Make  Gear_Type       Origin    Options  \\\n",
       "0      Corolla            Abha      Toyota     Manual        Saudi   Standard   \n",
       "1        Yukon          Riyadh         GMC  Automatic        Saudi       Full   \n",
       "2  Range Rover          Riyadh  Land Rover  Automatic  Gulf Arabic       Full   \n",
       "3       Optima  Hafar Al-Batin         Kia  Automatic        Saudi  Semi Full   \n",
       "4           FJ          Riyadh      Toyota  Automatic        Saudi       Full   \n",
       "\n",
       "   Year  Engine_Size  Mileage  Negotiable   Price  \n",
       "0  2013          1.4   421000        True       0  \n",
       "1  2014          8.0    80000       False  120000  \n",
       "2  2015          5.0   140000       False  260000  \n",
       "3  2015          2.4   220000       False   42000  \n",
       "4  2020          4.0    49000        True       0  "
      ]
     },
     "execution_count": 543,
     "metadata": {},
     "output_type": "execute_result"
    }
   ],
   "source": [
    "# Load dataset\n",
    "df = pd.read_csv('data_saudi_used_cars.csv')\n",
    "df.head()"
   ]
  },
  {
   "cell_type": "code",
   "execution_count": 544,
   "id": "72cdcb07",
   "metadata": {},
   "outputs": [
    {
     "data": {
      "text/plain": [
       "Type            347\n",
       "Region           27\n",
       "Make             58\n",
       "Gear_Type         2\n",
       "Origin            4\n",
       "Options           3\n",
       "Year             50\n",
       "Engine_Size      71\n",
       "Mileage        1716\n",
       "Negotiable        2\n",
       "Price           467\n",
       "dtype: int64"
      ]
     },
     "execution_count": 544,
     "metadata": {},
     "output_type": "execute_result"
    }
   ],
   "source": [
    "df.nunique()"
   ]
  },
  {
   "cell_type": "code",
   "execution_count": 545,
   "id": "fa90883d",
   "metadata": {},
   "outputs": [
    {
     "name": "stdout",
     "output_type": "stream",
     "text": [
      "<class 'pandas.core.frame.DataFrame'>\n",
      "RangeIndex: 5624 entries, 0 to 5623\n",
      "Data columns (total 11 columns):\n",
      " #   Column       Non-Null Count  Dtype  \n",
      "---  ------       --------------  -----  \n",
      " 0   Type         5624 non-null   object \n",
      " 1   Region       5624 non-null   object \n",
      " 2   Make         5624 non-null   object \n",
      " 3   Gear_Type    5624 non-null   object \n",
      " 4   Origin       5624 non-null   object \n",
      " 5   Options      5624 non-null   object \n",
      " 6   Year         5624 non-null   int64  \n",
      " 7   Engine_Size  5624 non-null   float64\n",
      " 8   Mileage      5624 non-null   int64  \n",
      " 9   Negotiable   5624 non-null   bool   \n",
      " 10  Price        5624 non-null   int64  \n",
      "dtypes: bool(1), float64(1), int64(3), object(6)\n",
      "memory usage: 445.0+ KB\n"
     ]
    }
   ],
   "source": [
    "df.info()"
   ]
  },
  {
   "cell_type": "markdown",
   "id": "62e2d8b0",
   "metadata": {},
   "source": [
    "## **Exploratory Data Analysis**"
   ]
  },
  {
   "cell_type": "markdown",
   "id": "581e44d8",
   "metadata": {},
   "source": [
    "**Plot Distribusi Harga**"
   ]
  },
  {
   "cell_type": "code",
   "execution_count": 546,
   "id": "c819f099",
   "metadata": {},
   "outputs": [
    {
     "data": {
      "image/png": "[encoded data removed]",
      "text/plain": [
       "<Figure size 1000x600 with 1 Axes>"
      ]
     },
     "metadata": {},
     "output_type": "display_data"
    }
   ],
   "source": [
    "# Plot distribusi dari kolom 'Price'\n",
    "plt.figure(figsize=(10, 6))\n",
    "sns.histplot(df['Price'], bins=50, kde=True)\n",
    "plt.title('Distribusi Harga Mobil Bekas di Arab Saudi')\n",
    "plt.xlabel('Harga (SAR)')\n",
    "plt.ylabel('Frekuensi')\n",
    "plt.grid(True)\n",
    "plt.tight_layout()\n",
    "plt.show()"
   ]
  },
  {
   "cell_type": "markdown",
   "id": "c9776a60",
   "metadata": {},
   "source": [
    "- Distribusi harga sangat **right-skewed**, artinya mayoritas mobil berada pada rentang harga yang lebih rendah.\n",
    "- Terdapat beberapa outlier pada sisi kanan (harga sangat tinggi) yang nantinya bisa dilakukan pengecekkan lebih lanjut tergantung model yang digunakan."
   ]
  },
  {
   "cell_type": "markdown",
   "id": "d76eb39d",
   "metadata": {},
   "source": [
    "**EDA Kolom Numerikal**"
   ]
  },
  {
   "cell_type": "code",
   "execution_count": 547,
   "id": "e044a5b4",
   "metadata": {},
   "outputs": [],
   "source": [
    "# Pilih kolom numerikal\n",
    "numerical_cols = ['Price', 'Year', 'Engine_Size', 'Mileage']\n"
   ]
  },
  {
   "cell_type": "markdown",
   "id": "c0bb066e",
   "metadata": {},
   "source": [
    "Cek Distribusi Data kolom numerikal"
   ]
  },
  {
   "cell_type": "code",
   "execution_count": 548,
   "id": "7d28a9af",
   "metadata": {},
   "outputs": [
    {
     "data": {
      "image/png": "[encoded data removed]",
      "text/plain": [
       "<Figure size 800x400 with 1 Axes>"
      ]
     },
     "metadata": {},
     "output_type": "display_data"
    },
    {
     "data": {
      "image/png": "[encoded data removed]",
      "text/plain": [
       "<Figure size 800x400 with 1 Axes>"
      ]
     },
     "metadata": {},
     "output_type": "display_data"
    },
    {
     "data": {
      "image/png": "[encoded data removed]",
      "text/plain": [
       "<Figure size 800x400 with 1 Axes>"
      ]
     },
     "metadata": {},
     "output_type": "display_data"
    }
   ],
   "source": [
    "cols = ['Year', 'Engine_Size', 'Mileage']\n",
    "\n",
    "# Plot distribusi tiap kolom\n",
    "for col in cols:\n",
    "    plt.figure(figsize=(8, 4))\n",
    "    sns.histplot(df[col], bins=50, kde=True)\n",
    "    plt.title(f'Distribusi {col}')\n",
    "    plt.xlabel(col)\n",
    "    plt.ylabel('Frekuensi')\n",
    "    plt.grid(True)\n",
    "    plt.tight_layout()\n",
    "    plt.show()"
   ]
  },
  {
   "cell_type": "markdown",
   "id": "e427ccd4",
   "metadata": {},
   "source": [
    "Dapat dilihat, seluruh kolom numerikal memiliki persebaran data yang terdistribusi **tidak** normal."
   ]
  },
  {
   "cell_type": "markdown",
   "id": "1d3b498c",
   "metadata": {},
   "source": [
    "Korelasi Antar Variabel Numerikal"
   ]
  },
  {
   "cell_type": "code",
   "execution_count": 549,
   "id": "10b7b6f6",
   "metadata": {},
   "outputs": [
    {
     "data": {
      "image/png": "[encoded data removed]",
      "text/plain": [
       "<Figure size 800x600 with 2 Axes>"
      ]
     },
     "metadata": {},
     "output_type": "display_data"
    }
   ],
   "source": [
    "plt.figure(figsize=(8, 6))\n",
    "sns.heatmap(df[numerical_cols].corr(), annot=True, cmap='coolwarm', fmt=\".2f\")\n",
    "plt.title('Korelasi Antar Variabel Numerikal')\n",
    "plt.tight_layout()\n",
    "plt.show()"
   ]
  },
  {
   "cell_type": "markdown",
   "id": "ad1146a0",
   "metadata": {},
   "source": [
    "Tidak terlihat adanya hubungan yang kuat antar variabel, Year memiliki korelasi tertinggi terhadap Price dan korelasinya **Positif**.\n",
    "\n",
    "- Year memiliki korelasi **positif** dengan price, namun **sangat kecil**\n",
    "- Engine Size memiliki korelasi **positif** dengan price, namun **sangat kecil**\n",
    "- Mileage memiliki korelasi **negatif** dengan price, namun **sangat kecil**"
   ]
  },
  {
   "cell_type": "code",
   "execution_count": 550,
   "id": "193b9d27",
   "metadata": {},
   "outputs": [
    {
     "data": {
      "text/plain": [
       "Type            347\n",
       "Region           27\n",
       "Make             58\n",
       "Gear_Type         2\n",
       "Origin            4\n",
       "Options           3\n",
       "Year             50\n",
       "Engine_Size      71\n",
       "Mileage        1716\n",
       "Negotiable        2\n",
       "Price           467\n",
       "dtype: int64"
      ]
     },
     "execution_count": 550,
     "metadata": {},
     "output_type": "execute_result"
    }
   ],
   "source": [
    "df.nunique()"
   ]
  },
  {
   "cell_type": "code",
   "execution_count": 551,
   "id": "27e983e4",
   "metadata": {},
   "outputs": [
    {
     "data": {
      "text/plain": [
       "Origin       Options  \n",
       "Gulf Arabic  Full          364\n",
       "             Semi Full     211\n",
       "             Standard      122\n",
       "Other        Full          365\n",
       "             Semi Full     179\n",
       "             Standard      134\n",
       "Saudi        Full         1477\n",
       "             Semi Full    1165\n",
       "             Standard     1546\n",
       "Unknown      Full           27\n",
       "             Semi Full      14\n",
       "             Standard       20\n",
       "Name: Options, dtype: int64"
      ]
     },
     "execution_count": 551,
     "metadata": {},
     "output_type": "execute_result"
    }
   ],
   "source": [
    "# Grouping Options mobil berdasarkan Origin group\n",
    "df.groupby(['Origin', 'Options'])['Options'].count()"
   ]
  },
  {
   "cell_type": "markdown",
   "id": "00445ad5",
   "metadata": {},
   "source": [
    "Dikarenakan tidak terdapat penjelasan lebih lanjut terkait apa itu fitur `Options`, maka dilakukan riset lebih lanjut. Dikutip dari website [altamwean](https://altamwean.com/en/blog/%D9%85%D8%B9%D9%86%D9%89-%D8%B3%D8%AA%D8%A7%D9%86%D8%AF%D8%B1-%D8%A8%D8%A7%D9%84%D8%B3%D9%8A%D8%A7%D8%B1%D8%A7%D8%AA) yang merupakan website terkait penjualan mobil di Arab, terdapat penjelasan terkait **Full**,**Semi Full** dan **Standard**. Dimana kolom ini mengacu pada tingkat kelengkapan fitur, dimana Standard merupakan fitur paling basic, Semi Full merupakan fitur dengan beberapa tambahan, dan Full dengan fitur paling lengkap. Fitur yang dimaksud adalah fitur mobil seperti AC, Power Windows, Audio, dan aksesoris lainnya."
   ]
  },
  {
   "cell_type": "code",
   "execution_count": 552,
   "id": "42fdc3cb",
   "metadata": {},
   "outputs": [
    {
     "data": {
      "image/png": "[encoded data removed]",
      "text/plain": [
       "<Figure size 800x500 with 1 Axes>"
      ]
     },
     "metadata": {},
     "output_type": "display_data"
    }
   ],
   "source": [
    "\n",
    "plt.figure(figsize=(8, 5))\n",
    "sns.boxplot(data=df, x='Options', y='Price')\n",
    "plt.title('Perbandingan Harga Berdasarkan Tingkat Opsi Mobil')\n",
    "plt.xlabel('Options')\n",
    "plt.ylabel('Price')\n",
    "plt.grid(True)\n",
    "plt.show()"
   ]
  },
  {
   "cell_type": "markdown",
   "id": "f8de98ad",
   "metadata": {},
   "source": [
    "Plot ini memvalidasi bahwa memang penjelasan `Options` sudah sesuai, terlihat bahwa untuk harganya berbanding dengan urutan options yang disediakan.\n",
    "Dimana urutannya adalah standard - semi full - full."
   ]
  },
  {
   "cell_type": "code",
   "execution_count": 553,
   "id": "2eb7505b",
   "metadata": {},
   "outputs": [
    {
     "data": {
      "application/vnd.microsoft.datawrangler.viewer.v0+json": {
       "columns": [
        {
         "name": "Origin",
         "rawType": "object",
         "type": "string"
        },
        {
         "name": "Price",
         "rawType": "float64",
         "type": "float"
        }
       ],
       "conversionMethod": "pd.DataFrame",
       "ref": "84f999ac-a3df-4dcf-8955-ed0b96c3a601",
       "rows": [
        [
         "Gulf Arabic",
         "59500.0"
        ],
        [
         "Saudi",
         "36000.0"
        ],
        [
         "Other",
         "21000.0"
        ],
        [
         "Unknown",
         "0.0"
        ]
       ],
       "shape": {
        "columns": 1,
        "rows": 4
       }
      },
      "text/html": [
       "<div>\n",
       "<style scoped>\n",
       "    .dataframe tbody tr th:only-of-type {\n",
       "        vertical-align: middle;\n",
       "    }\n",
       "\n",
       "    .dataframe tbody tr th {\n",
       "        vertical-align: top;\n",
       "    }\n",
       "\n",
       "    .dataframe thead th {\n",
       "        text-align: right;\n",
       "    }\n",
       "</style>\n",
       "<table border=\"1\" class=\"dataframe\">\n",
       "  <thead>\n",
       "    <tr style=\"text-align: right;\">\n",
       "      <th></th>\n",
       "      <th>Price</th>\n",
       "    </tr>\n",
       "    <tr>\n",
       "      <th>Origin</th>\n",
       "      <th></th>\n",
       "    </tr>\n",
       "  </thead>\n",
       "  <tbody>\n",
       "    <tr>\n",
       "      <th>Gulf Arabic</th>\n",
       "      <td>59500.0</td>\n",
       "    </tr>\n",
       "    <tr>\n",
       "      <th>Saudi</th>\n",
       "      <td>36000.0</td>\n",
       "    </tr>\n",
       "    <tr>\n",
       "      <th>Other</th>\n",
       "      <td>21000.0</td>\n",
       "    </tr>\n",
       "    <tr>\n",
       "      <th>Unknown</th>\n",
       "      <td>0.0</td>\n",
       "    </tr>\n",
       "  </tbody>\n",
       "</table>\n",
       "</div>"
      ],
      "text/plain": [
       "               Price\n",
       "Origin              \n",
       "Gulf Arabic  59500.0\n",
       "Saudi        36000.0\n",
       "Other        21000.0\n",
       "Unknown          0.0"
      ]
     },
     "execution_count": 553,
     "metadata": {},
     "output_type": "execute_result"
    }
   ],
   "source": [
    "# Cek median price untuk tiap neighbourhood group\n",
    "df_median_price = df.groupby(by=['Origin']).agg({'Price':'median'}).reset_index()\n",
    "df_median_price = df_median_price.set_index('Origin')\n",
    "df_median_price = df_median_price.sort_values('Price', ascending =False)\n",
    "df_median_price.head()"
   ]
  },
  {
   "cell_type": "markdown",
   "id": "52101243",
   "metadata": {},
   "source": [
    "`Origin` memiliki pengaruh terhadap `Price`, asal daerah yang belum tidak diketahui atau \"Unknown\" sangat didominasi dengan `Price` 0."
   ]
  },
  {
   "cell_type": "code",
   "execution_count": 554,
   "id": "89d68ac5",
   "metadata": {},
   "outputs": [
    {
     "data": {
      "application/vnd.microsoft.datawrangler.viewer.v0+json": {
       "columns": [
        {
         "name": "index",
         "rawType": "int64",
         "type": "integer"
        },
        {
         "name": "Type",
         "rawType": "object",
         "type": "string"
        },
        {
         "name": "Region",
         "rawType": "object",
         "type": "string"
        },
        {
         "name": "Make",
         "rawType": "object",
         "type": "string"
        },
        {
         "name": "Gear_Type",
         "rawType": "object",
         "type": "string"
        },
        {
         "name": "Origin",
         "rawType": "object",
         "type": "string"
        },
        {
         "name": "Options",
         "rawType": "object",
         "type": "string"
        },
        {
         "name": "Year",
         "rawType": "int64",
         "type": "integer"
        },
        {
         "name": "Engine_Size",
         "rawType": "float64",
         "type": "float"
        },
        {
         "name": "Mileage",
         "rawType": "int64",
         "type": "integer"
        },
        {
         "name": "Negotiable",
         "rawType": "bool",
         "type": "boolean"
        },
        {
         "name": "Price",
         "rawType": "int64",
         "type": "integer"
        }
       ],
       "conversionMethod": "pd.DataFrame",
       "ref": "70544f88-f704-4e62-a81e-6da8e5d1e592",
       "rows": [
        [
         "63",
         "Land Cruiser Pickup",
         "Qassim",
         "Nissan",
         "Manual",
         "Unknown",
         "Full",
         "2016",
         "4.8",
         "42000",
         "True",
         "0"
        ],
        [
         "133",
         "Land Cruiser",
         "Riyadh",
         "Toyota",
         "Automatic",
         "Unknown",
         "Full",
         "2014",
         "4.6",
         "191000",
         "True",
         "0"
        ],
        [
         "252",
         "CX9",
         "Abha",
         "Mazda",
         "Automatic",
         "Unknown",
         "Full",
         "2012",
         "2.5",
         "377836",
         "True",
         "0"
        ],
        [
         "253",
         "Sorento",
         "Jubail",
         "Kia",
         "Automatic",
         "Unknown",
         "Semi Full",
         "2015",
         "3.3",
         "133981",
         "True",
         "0"
        ],
        [
         "276",
         "Charger",
         "Riyadh",
         "Dodge",
         "Automatic",
         "Unknown",
         "Full",
         "2020",
         "3.6",
         "9120",
         "False",
         "115000"
        ],
        [
         "326",
         "Land Cruiser",
         "Riyadh",
         "Toyota",
         "Automatic",
         "Unknown",
         "Full",
         "2018",
         "4.6",
         "24000",
         "True",
         "0"
        ],
        [
         "351",
         "H1",
         "Qassim",
         "Hyundai",
         "Automatic",
         "Unknown",
         "Semi Full",
         "2019",
         "2.4",
         "20000",
         "True",
         "0"
        ],
        [
         "411",
         "Optima",
         "Riyadh",
         "Kia",
         "Automatic",
         "Unknown",
         "Semi Full",
         "2014",
         "2.4",
         "170000",
         "True",
         "0"
        ],
        [
         "463",
         "Sonata",
         "Al-Medina",
         "Hyundai",
         "Automatic",
         "Unknown",
         "Semi Full",
         "2020",
         "2.4",
         "2396",
         "True",
         "0"
        ],
        [
         "665",
         "Grand Marquis",
         "Al-Medina",
         "Mercury",
         "Automatic",
         "Unknown",
         "Full",
         "2007",
         "4.6",
         "179000",
         "False",
         "24000"
        ],
        [
         "733",
         "Camry",
         "Riyadh",
         "Toyota",
         "Automatic",
         "Unknown",
         "Standard",
         "2016",
         "2.5",
         "263000",
         "True",
         "0"
        ],
        [
         "800",
         "Camry",
         "Qassim",
         "Toyota",
         "Automatic",
         "Unknown",
         "Full",
         "2005",
         "2.5",
         "437000",
         "False",
         "13000"
        ],
        [
         "811",
         "Yukon",
         "Riyadh",
         "GMC",
         "Automatic",
         "Unknown",
         "Full",
         "2007",
         "5.3",
         "300000",
         "True",
         "0"
        ],
        [
         "826",
         "Taurus",
         "Riyadh",
         "Ford",
         "Automatic",
         "Unknown",
         "Standard",
         "2014",
         "3.5",
         "93000",
         "True",
         "0"
        ],
        [
         "959",
         "Furniture",
         "Riyadh",
         "Toyota",
         "Automatic",
         "Unknown",
         "Semi Full",
         "2016",
         "2.7",
         "201000",
         "True",
         "0"
        ],
        [
         "1047",
         "Land Cruiser",
         "Riyadh",
         "Toyota",
         "Automatic",
         "Unknown",
         "Full",
         "2013",
         "4.6",
         "200000",
         "True",
         "0"
        ],
        [
         "1060",
         "Expedition",
         "Riyadh",
         "Ford",
         "Automatic",
         "Unknown",
         "Semi Full",
         "2005",
         "5.4",
         "210000",
         "True",
         "0"
        ],
        [
         "1174",
         "Camry",
         "Abha",
         "Toyota",
         "Automatic",
         "Unknown",
         "Standard",
         "2017",
         "2.5",
         "120000",
         "False",
         "59000"
        ],
        [
         "1205",
         "Datsun",
         "Al-Medina",
         "Nissan",
         "Manual",
         "Unknown",
         "Full",
         "2016",
         "2.4",
         "193000",
         "True",
         "0"
        ],
        [
         "1376",
         "ES",
         "Jeddah",
         "Lexus",
         "Automatic",
         "Unknown",
         "Full",
         "2021",
         "3.5",
         "1300",
         "False",
         "175000"
        ],
        [
         "1392",
         "Focus",
         "Jeddah",
         "Ford",
         "Automatic",
         "Unknown",
         "Standard",
         "2011",
         "1.6",
         "181000",
         "False",
         "10000"
        ],
        [
         "1481",
         "Camry",
         "Riyadh",
         "Toyota",
         "Automatic",
         "Unknown",
         "Standard",
         "2016",
         "2.5",
         "267000",
         "True",
         "0"
        ],
        [
         "1531",
         "S",
         "Riyadh",
         "Mercedes",
         "Automatic",
         "Unknown",
         "Full",
         "2006",
         "3.0",
         "347000",
         "True",
         "0"
        ],
        [
         "1564",
         "Hilux",
         "Riyadh",
         "Toyota",
         "Manual",
         "Unknown",
         "Full",
         "2014",
         "2.7",
         "270000",
         "True",
         "0"
        ],
        [
         "1604",
         "Taurus",
         "Riyadh",
         "Ford",
         "Automatic",
         "Unknown",
         "Standard",
         "2015",
         "3.5",
         "175000",
         "True",
         "0"
        ],
        [
         "1894",
         "Silverado",
         "Dammam",
         "Chevrolet",
         "Automatic",
         "Unknown",
         "Semi Full",
         "2012",
         "5.3",
         "300000",
         "True",
         "0"
        ],
        [
         "1989",
         "Camry",
         "Al-Medina",
         "Toyota",
         "Automatic",
         "Unknown",
         "Full",
         "2020",
         "2.5",
         "10616",
         "False",
         "104500"
        ],
        [
         "1999",
         "Caprice",
         "Riyadh",
         "Chevrolet",
         "Automatic",
         "Unknown",
         "Standard",
         "2011",
         "6.0",
         "259000",
         "True",
         "0"
        ],
        [
         "2147",
         "Tahoe",
         "Al-Ahsa",
         "Chevrolet",
         "Automatic",
         "Unknown",
         "Semi Full",
         "2008",
         "5.3",
         "247000",
         "False",
         "42500"
        ],
        [
         "2300",
         "Land Cruiser",
         "Dammam",
         "Toyota",
         "Automatic",
         "Unknown",
         "Full",
         "2008",
         "4.6",
         "475000",
         "True",
         "0"
        ],
        [
         "2314",
         "Land Cruiser Pickup",
         "Riyadh",
         "Toyota",
         "Manual",
         "Unknown",
         "Full",
         "1997",
         "4.0",
         "300000",
         "True",
         "0"
        ],
        [
         "2513",
         "Cerato",
         "Jeddah",
         "Kia",
         "Automatic",
         "Unknown",
         "Standard",
         "2012",
         "1.6",
         "265000",
         "True",
         "0"
        ],
        [
         "2565",
         "Tahoe",
         "Riyadh",
         "Chevrolet",
         "Automatic",
         "Unknown",
         "Semi Full",
         "2008",
         "5.3",
         "85000",
         "True",
         "0"
        ],
        [
         "2613",
         "Optima",
         "Tabouk",
         "Kia",
         "Automatic",
         "Unknown",
         "Semi Full",
         "2018",
         "2.4",
         "125000",
         "False",
         "55000"
        ],
        [
         "2653",
         "Hilux",
         "Dammam",
         "Toyota",
         "Manual",
         "Unknown",
         "Full",
         "2016",
         "2.7",
         "342125",
         "True",
         "0"
        ],
        [
         "2764",
         "Camry",
         "Qassim",
         "Toyota",
         "Automatic",
         "Unknown",
         "Standard",
         "2019",
         "2.5",
         "30000",
         "True",
         "0"
        ],
        [
         "2766",
         "Camry",
         "Jeddah",
         "Toyota",
         "Automatic",
         "Unknown",
         "Standard",
         "2010",
         "2.5",
         "142333",
         "True",
         "0"
        ],
        [
         "2863",
         "Pajero",
         "Abha",
         "Mitsubishi",
         "Automatic",
         "Unknown",
         "Full",
         "2020",
         "3.5",
         "5000",
         "True",
         "0"
        ],
        [
         "2997",
         "Sierra",
         "Jubail",
         "GMC",
         "Automatic",
         "Unknown",
         "Full",
         "1984",
         "5.3",
         "289000",
         "True",
         "0"
        ],
        [
         "3006",
         "Camry",
         "Riyadh",
         "Toyota",
         "Automatic",
         "Unknown",
         "Standard",
         "2017",
         "2.5",
         "305000",
         "True",
         "0"
        ],
        [
         "3066",
         "Caprice",
         "Qassim",
         "Chevrolet",
         "Automatic",
         "Unknown",
         "Standard",
         "2007",
         "6.0",
         "300000",
         "True",
         "0"
        ],
        [
         "3079",
         "Patrol",
         "Riyadh",
         "Nissan",
         "Automatic",
         "Unknown",
         "Full",
         "2019",
         "4.0",
         "38000",
         "True",
         "0"
        ],
        [
         "3209",
         "Furniture",
         "Al-Ahsa",
         "Toyota",
         "Automatic",
         "Unknown",
         "Semi Full",
         "2017",
         "2.7",
         "70000",
         "False",
         "75000"
        ],
        [
         "3236",
         "Camry",
         "Riyadh",
         "Toyota",
         "Automatic",
         "Unknown",
         "Standard",
         "2010",
         "2.5",
         "400000",
         "False",
         "22000"
        ],
        [
         "3339",
         "Pathfinder",
         "Qassim",
         "Nissan",
         "Automatic",
         "Unknown",
         "Full",
         "2002",
         "3.5",
         "458312",
         "True",
         "0"
        ],
        [
         "3432",
         "Traverse",
         "Riyadh",
         "Chevrolet",
         "Automatic",
         "Unknown",
         "Standard",
         "2014",
         "3.6",
         "195000",
         "False",
         "42000"
        ],
        [
         "3595",
         "FJ",
         "Qassim",
         "Toyota",
         "Automatic",
         "Unknown",
         "Full",
         "2013",
         "4.0",
         "228000",
         "True",
         "0"
        ],
        [
         "3597",
         "Suburban",
         "Qassim",
         "GMC",
         "Automatic",
         "Unknown",
         "Semi Full",
         "2000",
         "5.3",
         "205058",
         "True",
         "0"
        ],
        [
         "3867",
         "Accent",
         "Jubail",
         "Hyundai",
         "Automatic",
         "Unknown",
         "Standard",
         "2018",
         "1.4",
         "143000",
         "True",
         "0"
        ],
        [
         "3902",
         "CLS",
         "Riyadh",
         "Mercedes",
         "Automatic",
         "Unknown",
         "Full",
         "2019",
         "3.5",
         "94000",
         "True",
         "0"
        ]
       ],
       "shape": {
        "columns": 11,
        "rows": 61
       }
      },
      "text/html": [
       "<div>\n",
       "<style scoped>\n",
       "    .dataframe tbody tr th:only-of-type {\n",
       "        vertical-align: middle;\n",
       "    }\n",
       "\n",
       "    .dataframe tbody tr th {\n",
       "        vertical-align: top;\n",
       "    }\n",
       "\n",
       "    .dataframe thead th {\n",
       "        text-align: right;\n",
       "    }\n",
       "</style>\n",
       "<table border=\"1\" class=\"dataframe\">\n",
       "  <thead>\n",
       "    <tr style=\"text-align: right;\">\n",
       "      <th></th>\n",
       "      <th>Type</th>\n",
       "      <th>Region</th>\n",
       "      <th>Make</th>\n",
       "      <th>Gear_Type</th>\n",
       "      <th>Origin</th>\n",
       "      <th>Options</th>\n",
       "      <th>Year</th>\n",
       "      <th>Engine_Size</th>\n",
       "      <th>Mileage</th>\n",
       "      <th>Negotiable</th>\n",
       "      <th>Price</th>\n",
       "    </tr>\n",
       "  </thead>\n",
       "  <tbody>\n",
       "    <tr>\n",
       "      <th>63</th>\n",
       "      <td>Land Cruiser Pickup</td>\n",
       "      <td>Qassim</td>\n",
       "      <td>Nissan</td>\n",
       "      <td>Manual</td>\n",
       "      <td>Unknown</td>\n",
       "      <td>Full</td>\n",
       "      <td>2016</td>\n",
       "      <td>4.8</td>\n",
       "      <td>42000</td>\n",
       "      <td>True</td>\n",
       "      <td>0</td>\n",
       "    </tr>\n",
       "    <tr>\n",
       "      <th>133</th>\n",
       "      <td>Land Cruiser</td>\n",
       "      <td>Riyadh</td>\n",
       "      <td>Toyota</td>\n",
       "      <td>Automatic</td>\n",
       "      <td>Unknown</td>\n",
       "      <td>Full</td>\n",
       "      <td>2014</td>\n",
       "      <td>4.6</td>\n",
       "      <td>191000</td>\n",
       "      <td>True</td>\n",
       "      <td>0</td>\n",
       "    </tr>\n",
       "    <tr>\n",
       "      <th>252</th>\n",
       "      <td>CX9</td>\n",
       "      <td>Abha</td>\n",
       "      <td>Mazda</td>\n",
       "      <td>Automatic</td>\n",
       "      <td>Unknown</td>\n",
       "      <td>Full</td>\n",
       "      <td>2012</td>\n",
       "      <td>2.5</td>\n",
       "      <td>377836</td>\n",
       "      <td>True</td>\n",
       "      <td>0</td>\n",
       "    </tr>\n",
       "    <tr>\n",
       "      <th>253</th>\n",
       "      <td>Sorento</td>\n",
       "      <td>Jubail</td>\n",
       "      <td>Kia</td>\n",
       "      <td>Automatic</td>\n",
       "      <td>Unknown</td>\n",
       "      <td>Semi Full</td>\n",
       "      <td>2015</td>\n",
       "      <td>3.3</td>\n",
       "      <td>133981</td>\n",
       "      <td>True</td>\n",
       "      <td>0</td>\n",
       "    </tr>\n",
       "    <tr>\n",
       "      <th>276</th>\n",
       "      <td>Charger</td>\n",
       "      <td>Riyadh</td>\n",
       "      <td>Dodge</td>\n",
       "      <td>Automatic</td>\n",
       "      <td>Unknown</td>\n",
       "      <td>Full</td>\n",
       "      <td>2020</td>\n",
       "      <td>3.6</td>\n",
       "      <td>9120</td>\n",
       "      <td>False</td>\n",
       "      <td>115000</td>\n",
       "    </tr>\n",
       "    <tr>\n",
       "      <th>...</th>\n",
       "      <td>...</td>\n",
       "      <td>...</td>\n",
       "      <td>...</td>\n",
       "      <td>...</td>\n",
       "      <td>...</td>\n",
       "      <td>...</td>\n",
       "      <td>...</td>\n",
       "      <td>...</td>\n",
       "      <td>...</td>\n",
       "      <td>...</td>\n",
       "      <td>...</td>\n",
       "    </tr>\n",
       "    <tr>\n",
       "      <th>5350</th>\n",
       "      <td>Sonata</td>\n",
       "      <td>Al-Ahsa</td>\n",
       "      <td>Hyundai</td>\n",
       "      <td>Automatic</td>\n",
       "      <td>Unknown</td>\n",
       "      <td>Semi Full</td>\n",
       "      <td>2016</td>\n",
       "      <td>2.4</td>\n",
       "      <td>258000</td>\n",
       "      <td>False</td>\n",
       "      <td>38000</td>\n",
       "    </tr>\n",
       "    <tr>\n",
       "      <th>5413</th>\n",
       "      <td>Camry</td>\n",
       "      <td>Riyadh</td>\n",
       "      <td>Toyota</td>\n",
       "      <td>Automatic</td>\n",
       "      <td>Unknown</td>\n",
       "      <td>Standard</td>\n",
       "      <td>2016</td>\n",
       "      <td>2.5</td>\n",
       "      <td>254000</td>\n",
       "      <td>True</td>\n",
       "      <td>0</td>\n",
       "    </tr>\n",
       "    <tr>\n",
       "      <th>5449</th>\n",
       "      <td>Land Cruiser</td>\n",
       "      <td>Tabouk</td>\n",
       "      <td>Toyota</td>\n",
       "      <td>Manual</td>\n",
       "      <td>Unknown</td>\n",
       "      <td>Full</td>\n",
       "      <td>1995</td>\n",
       "      <td>4.6</td>\n",
       "      <td>300000</td>\n",
       "      <td>False</td>\n",
       "      <td>20000</td>\n",
       "    </tr>\n",
       "    <tr>\n",
       "      <th>5481</th>\n",
       "      <td>Elantra</td>\n",
       "      <td>Al-Jouf</td>\n",
       "      <td>Hyundai</td>\n",
       "      <td>Automatic</td>\n",
       "      <td>Unknown</td>\n",
       "      <td>Standard</td>\n",
       "      <td>2016</td>\n",
       "      <td>2.0</td>\n",
       "      <td>120000</td>\n",
       "      <td>True</td>\n",
       "      <td>0</td>\n",
       "    </tr>\n",
       "    <tr>\n",
       "      <th>5493</th>\n",
       "      <td>Pathfinder</td>\n",
       "      <td>Riyadh</td>\n",
       "      <td>Nissan</td>\n",
       "      <td>Automatic</td>\n",
       "      <td>Unknown</td>\n",
       "      <td>Semi Full</td>\n",
       "      <td>2003</td>\n",
       "      <td>3.5</td>\n",
       "      <td>500000</td>\n",
       "      <td>True</td>\n",
       "      <td>0</td>\n",
       "    </tr>\n",
       "  </tbody>\n",
       "</table>\n",
       "<p>61 rows × 11 columns</p>\n",
       "</div>"
      ],
      "text/plain": [
       "                     Type   Region     Make  Gear_Type   Origin    Options  \\\n",
       "63    Land Cruiser Pickup   Qassim   Nissan     Manual  Unknown       Full   \n",
       "133          Land Cruiser   Riyadh   Toyota  Automatic  Unknown       Full   \n",
       "252                   CX9     Abha    Mazda  Automatic  Unknown       Full   \n",
       "253               Sorento   Jubail      Kia  Automatic  Unknown  Semi Full   \n",
       "276               Charger   Riyadh    Dodge  Automatic  Unknown       Full   \n",
       "...                   ...      ...      ...        ...      ...        ...   \n",
       "5350               Sonata  Al-Ahsa  Hyundai  Automatic  Unknown  Semi Full   \n",
       "5413                Camry   Riyadh   Toyota  Automatic  Unknown   Standard   \n",
       "5449         Land Cruiser   Tabouk   Toyota     Manual  Unknown       Full   \n",
       "5481              Elantra  Al-Jouf  Hyundai  Automatic  Unknown   Standard   \n",
       "5493           Pathfinder   Riyadh   Nissan  Automatic  Unknown  Semi Full   \n",
       "\n",
       "      Year  Engine_Size  Mileage  Negotiable   Price  \n",
       "63    2016          4.8    42000        True       0  \n",
       "133   2014          4.6   191000        True       0  \n",
       "252   2012          2.5   377836        True       0  \n",
       "253   2015          3.3   133981        True       0  \n",
       "276   2020          3.6     9120       False  115000  \n",
       "...    ...          ...      ...         ...     ...  \n",
       "5350  2016          2.4   258000       False   38000  \n",
       "5413  2016          2.5   254000        True       0  \n",
       "5449  1995          4.6   300000       False   20000  \n",
       "5481  2016          2.0   120000        True       0  \n",
       "5493  2003          3.5   500000        True       0  \n",
       "\n",
       "[61 rows x 11 columns]"
      ]
     },
     "execution_count": 554,
     "metadata": {},
     "output_type": "execute_result"
    }
   ],
   "source": [
    "df[df['Origin'] == 'Unknown']"
   ]
  },
  {
   "cell_type": "markdown",
   "id": "d498fc5e",
   "metadata": {},
   "source": [
    "Melakukan pengecekkan lebih lanjut terkait harga 0, asumsi sementara harga 0 terjadi karena harga tidak dibuka secara publik sehingga harus melalui proses negosiasi terlebih dahulu untuk mengetahui harga yang ada."
   ]
  },
  {
   "cell_type": "code",
   "execution_count": 555,
   "id": "9b59c91c",
   "metadata": {},
   "outputs": [
    {
     "name": "stdout",
     "output_type": "stream",
     "text": [
      "❌ Ada baris dengan Price = 0 tapi Negotiable bukan True.\n"
     ]
    }
   ],
   "source": [
    "is_valid = (df[df['Price'] == 0]['Negotiable'] == True).all()\n",
    "\n",
    "# Tampilkan hasilnya\n",
    "if is_valid:\n",
    "    print(\"✅ Semua baris dengan Price = 0 memiliki Negotiable = True.\")\n",
    "else:\n",
    "    print(\"❌ Ada baris dengan Price = 0 tapi Negotiable bukan True.\")"
   ]
  },
  {
   "cell_type": "code",
   "execution_count": 556,
   "id": "fead3f0d",
   "metadata": {},
   "outputs": [
    {
     "data": {
      "application/vnd.microsoft.datawrangler.viewer.v0+json": {
       "columns": [
        {
         "name": "index",
         "rawType": "int64",
         "type": "integer"
        },
        {
         "name": "Type",
         "rawType": "object",
         "type": "string"
        },
        {
         "name": "Region",
         "rawType": "object",
         "type": "string"
        },
        {
         "name": "Make",
         "rawType": "object",
         "type": "string"
        },
        {
         "name": "Gear_Type",
         "rawType": "object",
         "type": "string"
        },
        {
         "name": "Origin",
         "rawType": "object",
         "type": "string"
        },
        {
         "name": "Options",
         "rawType": "object",
         "type": "string"
        },
        {
         "name": "Year",
         "rawType": "int64",
         "type": "integer"
        },
        {
         "name": "Engine_Size",
         "rawType": "float64",
         "type": "float"
        },
        {
         "name": "Mileage",
         "rawType": "int64",
         "type": "integer"
        },
        {
         "name": "Negotiable",
         "rawType": "bool",
         "type": "boolean"
        },
        {
         "name": "Price",
         "rawType": "int64",
         "type": "integer"
        }
       ],
       "conversionMethod": "pd.DataFrame",
       "ref": "172ab7b0-86c0-495a-936f-5f3268cd6137",
       "rows": [
        [
         "3168",
         "Furniture",
         "Riyadh",
         "Toyota",
         "Automatic",
         "Other",
         "Semi Full",
         "2012",
         "2.7",
         "225000",
         "False",
         "0"
        ]
       ],
       "shape": {
        "columns": 11,
        "rows": 1
       }
      },
      "text/html": [
       "<div>\n",
       "<style scoped>\n",
       "    .dataframe tbody tr th:only-of-type {\n",
       "        vertical-align: middle;\n",
       "    }\n",
       "\n",
       "    .dataframe tbody tr th {\n",
       "        vertical-align: top;\n",
       "    }\n",
       "\n",
       "    .dataframe thead th {\n",
       "        text-align: right;\n",
       "    }\n",
       "</style>\n",
       "<table border=\"1\" class=\"dataframe\">\n",
       "  <thead>\n",
       "    <tr style=\"text-align: right;\">\n",
       "      <th></th>\n",
       "      <th>Type</th>\n",
       "      <th>Region</th>\n",
       "      <th>Make</th>\n",
       "      <th>Gear_Type</th>\n",
       "      <th>Origin</th>\n",
       "      <th>Options</th>\n",
       "      <th>Year</th>\n",
       "      <th>Engine_Size</th>\n",
       "      <th>Mileage</th>\n",
       "      <th>Negotiable</th>\n",
       "      <th>Price</th>\n",
       "    </tr>\n",
       "  </thead>\n",
       "  <tbody>\n",
       "    <tr>\n",
       "      <th>3168</th>\n",
       "      <td>Furniture</td>\n",
       "      <td>Riyadh</td>\n",
       "      <td>Toyota</td>\n",
       "      <td>Automatic</td>\n",
       "      <td>Other</td>\n",
       "      <td>Semi Full</td>\n",
       "      <td>2012</td>\n",
       "      <td>2.7</td>\n",
       "      <td>225000</td>\n",
       "      <td>False</td>\n",
       "      <td>0</td>\n",
       "    </tr>\n",
       "  </tbody>\n",
       "</table>\n",
       "</div>"
      ],
      "text/plain": [
       "           Type  Region    Make  Gear_Type Origin    Options  Year  \\\n",
       "3168  Furniture  Riyadh  Toyota  Automatic  Other  Semi Full  2012   \n",
       "\n",
       "      Engine_Size  Mileage  Negotiable  Price  \n",
       "3168          2.7   225000       False      0  "
      ]
     },
     "execution_count": 556,
     "metadata": {},
     "output_type": "execute_result"
    }
   ],
   "source": [
    "# Tampilkan baris-baris yang melanggar\n",
    "df[(df['Price'] == 0) & (df['Negotiable'] != True)]"
   ]
  },
  {
   "cell_type": "markdown",
   "id": "3b3aadf1",
   "metadata": {},
   "source": [
    "Ternyata dari semua harga yang 0 dengan status **Negotiable**, ditemukan anomali yang berbeda. Karena hanya ada satu dan kekurangan domain knowledge terkait hal ini, maka diputuskan untuk menghapus baris tersebut."
   ]
  },
  {
   "cell_type": "code",
   "execution_count": 557,
   "id": "a413170d",
   "metadata": {},
   "outputs": [],
   "source": [
    "df.drop(df[(df['Price'] == 0) & (df['Negotiable'] != True)].index, inplace=True)"
   ]
  },
  {
   "cell_type": "markdown",
   "id": "c0f73970",
   "metadata": {},
   "source": [
    "## **Data Preprocessing**"
   ]
  },
  {
   "cell_type": "markdown",
   "id": "80621a34",
   "metadata": {},
   "source": [
    "Pada tahap *Data PreProcessing* akan dilakukan tahapan pengolahan data agar dapat digunakan pada model machine learning nantinya.\n",
    "Beberapa proses yang akan dilakukan antara lain :\n",
    "- Pengecekkan Data\n",
    "- Penanganan Missing Value dan Duplikasi\n",
    "- Konversi Tipe Data\n",
    "- Penanganan Outlier\n",
    "- Feature Engineering"
   ]
  },
  {
   "cell_type": "markdown",
   "id": "c00d4648",
   "metadata": {},
   "source": [
    "### **Pengecekkan Data**"
   ]
  },
  {
   "cell_type": "code",
   "execution_count": 558,
   "id": "a1221cc7",
   "metadata": {},
   "outputs": [
    {
     "name": "stdout",
     "output_type": "stream",
     "text": [
      "Jumlah baris dan kolom:\n",
      "(5623, 11)\n",
      "\n",
      "Tipe data masing-masing kolom:\n",
      "Type            object\n",
      "Region          object\n",
      "Make            object\n",
      "Gear_Type       object\n",
      "Origin          object\n",
      "Options         object\n",
      "Year             int64\n",
      "Engine_Size    float64\n",
      "Mileage          int64\n",
      "Negotiable        bool\n",
      "Price            int64\n",
      "dtype: object\n",
      "\n",
      "Jumlah nilai kosong (null) per kolom:\n",
      "Type           0\n",
      "Region         0\n",
      "Make           0\n",
      "Gear_Type      0\n",
      "Origin         0\n",
      "Options        0\n",
      "Year           0\n",
      "Engine_Size    0\n",
      "Mileage        0\n",
      "Negotiable     0\n",
      "Price          0\n",
      "dtype: int64\n",
      "\n",
      "Jumlah baris duplikat:\n",
      "4\n"
     ]
    }
   ],
   "source": [
    "# Menampilkan jumlah baris dan kolom\n",
    "print(\"Jumlah baris dan kolom:\")\n",
    "print(df.shape)\n",
    "\n",
    "# Menampilkan tipe data setiap kolom\n",
    "print(\"\\nTipe data masing-masing kolom:\")\n",
    "print(df.dtypes)\n",
    "\n",
    "# Menampilkan jumlah nilai null per kolom\n",
    "print(\"\\nJumlah nilai kosong (null) per kolom:\")\n",
    "print(df.isnull().sum())\n",
    "\n",
    "# Menampilkan jumlah baris duplikat\n",
    "print(\"\\nJumlah baris duplikat:\")\n",
    "print(df.duplicated().sum())"
   ]
  },
  {
   "cell_type": "code",
   "execution_count": 559,
   "id": "28c90e1d",
   "metadata": {},
   "outputs": [
    {
     "data": {
      "image/png": "[encoded data removed]",
      "text/plain": [
       "<Figure size 640x480 with 1 Axes>"
      ]
     },
     "metadata": {},
     "output_type": "display_data"
    }
   ],
   "source": [
    "# Missing value heatmap\n",
    "sns.heatmap(df.isnull(), cbar=False);"
   ]
  },
  {
   "cell_type": "markdown",
   "id": "7374eec9",
   "metadata": {},
   "source": [
    "### **Penanganan Missing Value dan Duplikasi**\n",
    "\n",
    "Data sudah dicek dan tidak terdapat Missing Value, namun terdapat 4 baris duplikat yang akan langsung ditangani"
   ]
  },
  {
   "cell_type": "code",
   "execution_count": 560,
   "id": "3a618de5",
   "metadata": {},
   "outputs": [
    {
     "name": "stdout",
     "output_type": "stream",
     "text": [
      "\n",
      "Jumlah baris duplikat:\n",
      "0\n"
     ]
    }
   ],
   "source": [
    "df = df.drop_duplicates()\n",
    "\n",
    "# Memastikan apa masih ada baris duplikat\n",
    "print(\"\\nJumlah baris duplikat:\")\n",
    "print(df.duplicated().sum())"
   ]
  },
  {
   "cell_type": "markdown",
   "id": "2fe9d7d8",
   "metadata": {},
   "source": [
    "**Konversi Tipe Data**\n",
    "\n",
    "Tipe data sudah sesuai, namun pada `Negotiable` nantinya akan dilakukan proses binerisasi."
   ]
  },
  {
   "cell_type": "markdown",
   "id": "77f9ee62",
   "metadata": {},
   "source": [
    "### **Penangan Outlier**"
   ]
  },
  {
   "cell_type": "markdown",
   "id": "ae209868",
   "metadata": {},
   "source": [
    "Pada step ini kita melakukan pengecekkan terhadap outlier, setelah mempelajari knowledge terkait data set ini, nantinya bisa digunakan sebagai keputusan dalam penanganan outlier."
   ]
  },
  {
   "cell_type": "code",
   "execution_count": 561,
   "id": "e3cf8430",
   "metadata": {},
   "outputs": [
    {
     "data": {
      "image/png": "[encoded data removed]",
      "text/plain": [
       "<Figure size 1200x600 with 1 Axes>"
      ]
     },
     "metadata": {},
     "output_type": "display_data"
    }
   ],
   "source": [
    "# Pilih hanya kolom numerikal\n",
    "numerical_cols = df.select_dtypes(include=['int64', 'float64']).columns\n",
    "\n",
    "# Plot boxplot untuk kolom numerikal\n",
    "df[numerical_cols].boxplot(rot=90, figsize=(12, 6))\n",
    "plt.title(\"Boxplot Kolom Numerikal\")\n",
    "plt.tight_layout()\n",
    "plt.show()\n"
   ]
  },
  {
   "cell_type": "markdown",
   "id": "896ac2de",
   "metadata": {},
   "source": [
    "Dari plot ini dapat terlihat, terdapat outlier yang berpotensi mengganggu pada fitur `Mileage` dan `Price`, maka dari itu akan dicek lebih lanjut menggunakan metode IQR namun tetap mempertimbangkan domain knowledge. Hasil yang didapat bisa dijadikan pertimbangan untuk melakukan filtrasi data agar hasil prediknya bisa lebih akurat dan tidak bias."
   ]
  },
  {
   "cell_type": "code",
   "execution_count": 562,
   "id": "8c0125da",
   "metadata": {},
   "outputs": [],
   "source": [
    "# Membuat fungsi untuk mengecek outliers\n",
    "def find_anomalies(data):\n",
    "    q1 = data.quantile(0.25)\n",
    "    q3 = data.quantile(0.75)\n",
    "    iqr = q3 - q1\n",
    "    limit = iqr*1.5\n",
    "    print(f'IQR: {iqr}')\n",
    "\n",
    "    limit_bawah = q1 - limit\n",
    "    limit_atas = q3 + limit\n",
    "    print(f'limit_bawah: {limit_bawah}')\n",
    "    print(f'limit_atas: {limit_atas}')       "
   ]
  },
  {
   "cell_type": "code",
   "execution_count": 563,
   "id": "ffc06f37",
   "metadata": {},
   "outputs": [
    {
     "name": "stdout",
     "output_type": "stream",
     "text": [
      "IQR: 73000.0\n",
      "limit_bawah: -109500.0\n",
      "limit_atas: 182500.0\n"
     ]
    }
   ],
   "source": [
    "# Outliers pada fitur Price\n",
    "find_anomalies(df['Price'])"
   ]
  },
  {
   "cell_type": "code",
   "execution_count": 564,
   "id": "5f675108",
   "metadata": {},
   "outputs": [
    {
     "name": "stdout",
     "output_type": "stream",
     "text": [
      "IQR: 6.0\n",
      "limit_bawah: 2003.0\n",
      "limit_atas: 2027.0\n"
     ]
    }
   ],
   "source": [
    "# Outliers pada fitur Year\n",
    "find_anomalies(df['Year'])"
   ]
  },
  {
   "cell_type": "code",
   "execution_count": 565,
   "id": "fad40ba3",
   "metadata": {},
   "outputs": [
    {
     "name": "stdout",
     "output_type": "stream",
     "text": [
      "IQR: 2.5\n",
      "limit_bawah: -1.75\n",
      "limit_atas: 8.25\n"
     ]
    }
   ],
   "source": [
    "# Outliers pada fitur Engine Size\n",
    "find_anomalies(df['Engine_Size'])"
   ]
  },
  {
   "cell_type": "code",
   "execution_count": 566,
   "id": "92b67072",
   "metadata": {},
   "outputs": [
    {
     "name": "stdout",
     "output_type": "stream",
     "text": [
      "IQR: 158000.0\n",
      "limit_bawah: -199000.0\n",
      "limit_atas: 433000.0\n"
     ]
    }
   ],
   "source": [
    "# Outliers pada fitur Mileage\n",
    "find_anomalies(df['Mileage'])"
   ]
  },
  {
   "cell_type": "markdown",
   "id": "2a75b060",
   "metadata": {},
   "source": [
    "### **Feature Engineering**\n"
   ]
  },
  {
   "cell_type": "markdown",
   "id": "2673e503",
   "metadata": {},
   "source": [
    "**Price**"
   ]
  },
  {
   "cell_type": "code",
   "execution_count": 567,
   "id": "406bf816",
   "metadata": {},
   "outputs": [
    {
     "data": {
      "text/plain": [
       "count      5619.000000\n",
       "mean      53095.852109\n",
       "std       70177.823944\n",
       "min           0.000000\n",
       "25%           0.000000\n",
       "50%       36500.000000\n",
       "75%       73000.000000\n",
       "max      850000.000000\n",
       "Name: Price, dtype: float64"
      ]
     },
     "execution_count": 567,
     "metadata": {},
     "output_type": "execute_result"
    }
   ],
   "source": [
    "# Cek deskriptif statistik kolom price\n",
    "df['Price'].describe()"
   ]
  },
  {
   "cell_type": "code",
   "execution_count": 568,
   "id": "3d54df6e",
   "metadata": {},
   "outputs": [
    {
     "data": {
      "text/plain": [
       "Price    1795\n",
       "dtype: int64"
      ]
     },
     "execution_count": 568,
     "metadata": {},
     "output_type": "execute_result"
    }
   ],
   "source": [
    "zero_price = df[ (df['Price'] == 0)][['Price']]\n",
    "zero_price.count()"
   ]
  },
  {
   "cell_type": "markdown",
   "id": "6b8c470d",
   "metadata": {},
   "source": [
    "Terdapat 1795 baris data yang memiliki `Price` **0**. Sedangkan secara Domain Knowledge, tidak masuk akal jika marketplace kendaraan menjual mobil gratis."
   ]
  },
  {
   "cell_type": "markdown",
   "id": "f7f73b9e",
   "metadata": {},
   "source": [
    "Berikutnya kita menentukan akan menentukan batas minimum range harga yang akan digunakan. `Price` pada dataset ini memiliki data sangat rendah yang tidak masuk akal, sehingga dilakukan lebih lanjut terkait harga terendah mobil bekas melalui competitor dari syarah.com. Competitor yang diambil antara lain [hatla2ee.com](https://ksa.hatla2ee.com/) dan [carswitch.com](https://ksa.carswitch.com/), dari kompetitor ini dapat dilihat listingan normal dari mobil termurah dimulai dari harga **8000** SAR. Oleh karena itu kita tetapkan **8000** sebagai batas bawah dari fitur `Price`."
   ]
  },
  {
   "cell_type": "code",
   "execution_count": 569,
   "id": "971405c9",
   "metadata": {},
   "outputs": [
    {
     "data": {
      "text/plain": [
       "Price    83\n",
       "dtype: int64"
      ]
     },
     "execution_count": 569,
     "metadata": {},
     "output_type": "execute_result"
    }
   ],
   "source": [
    "price_below_8000 = df[(df['Price'] < 8000) & (df['Price'] != 0)][['Price']]\n",
    "price_below_8000.count()"
   ]
  },
  {
   "cell_type": "markdown",
   "id": "0bad29f4",
   "metadata": {},
   "source": [
    "Terdapat 83 baris data yang memiliki `Price` dibawah **8000** tetapi tidak **0**."
   ]
  },
  {
   "cell_type": "code",
   "execution_count": 570,
   "id": "f1791599",
   "metadata": {},
   "outputs": [
    {
     "data": {
      "text/plain": [
       "Text(0.5, 0, 'Range Selected Price')"
      ]
     },
     "execution_count": 570,
     "metadata": {},
     "output_type": "execute_result"
    },
    {
     "data": {
      "image/png": "[encoded data removed]",
      "text/plain": [
       "<Figure size 2100x600 with 2 Axes>"
      ]
     },
     "metadata": {},
     "output_type": "display_data"
    }
   ],
   "source": [
    "# Melakukan filtering pada data dari 23.700 hingga 300.000\n",
    "df_filter = df[(df['Price']) >= 8000]\n",
    "\n",
    "\n",
    "# Plot distribusi data sebelum dan sesudah filtering\n",
    "fig, axes = plt.subplots(1, 2, figsize=(21, 6))\n",
    "sns.distplot(df['Price'], ax=axes[0])\n",
    "sns.distplot(df_filter['Price'], ax=axes[1])\n",
    "axes[0].set_xlabel('Price')\n",
    "axes[1].set_xlabel('Range Selected Price')"
   ]
  },
  {
   "cell_type": "markdown",
   "id": "356dea53",
   "metadata": {},
   "source": [
    "Kesimpulannya untuk Price\n",
    "- Batas bawah dari Price adalah 8000\n",
    "- Limitasi model untuk prediksi harga dibawah 8000\n",
    "- Distribusi tidak normal ( Skewed Right )\n",
    "- Kemungkinan kesulitan model memprediksi ketika harga semakin tinggi, karena dataset didominasi oleh harga rendah\n"
   ]
  },
  {
   "cell_type": "markdown",
   "id": "f5936d82",
   "metadata": {},
   "source": [
    "**Mileage**"
   ]
  },
  {
   "cell_type": "code",
   "execution_count": 571,
   "id": "d79e30f5",
   "metadata": {},
   "outputs": [
    {
     "data": {
      "text/plain": [
       "count    3.741000e+03\n",
       "mean     1.432170e+05\n",
       "std      3.809296e+05\n",
       "min      1.000000e+02\n",
       "25%      4.927100e+04\n",
       "50%      1.040000e+05\n",
       "75%      1.830000e+05\n",
       "max      2.000000e+07\n",
       "Name: Mileage, dtype: float64"
      ]
     },
     "execution_count": 571,
     "metadata": {},
     "output_type": "execute_result"
    }
   ],
   "source": [
    "# Cek deskriptif statistik kolom price\n",
    "df_filter['Mileage'].describe()"
   ]
  },
  {
   "cell_type": "markdown",
   "id": "359264bb",
   "metadata": {},
   "source": [
    "Mean (127.018) jauh lebih kecil dari max (3.640.000) → ini mengindikasikan adanya outlier ekstrem yang menarik rata-rata naik secara tidak proporsional terhadap data mayoritas.\n",
    "\n",
    "Q3 (75%) = 174.000, sedangkan max = 3.640.000 → menunjukkan rentang yang sangat lebar, dan nilai maksimum tersebut kemungkinan tidak realistis untuk penggunaan mobil biasa, sehingga patut dicurigai sebagai data anomali atau kesalahan input.\n",
    "\n",
    "Standar deviasi (std = 148.132) bahkan lebih besar dari nilai rata-rata, yang merupakan indikasi bahwa distribusi data sangat miring ke kanan (right-skewed). Hal ini sesuai dengan temuan pada tahap EDA sebelumnya, di mana terdapat lonjakan tajam pada rentang nilai rendah, dan ekor panjang menuju nilai tinggi."
   ]
  },
  {
   "cell_type": "code",
   "execution_count": 572,
   "id": "71b052b4",
   "metadata": {},
   "outputs": [
    {
     "data": {
      "image/png": "[encoded data removed]",
      "text/plain": [
       "<Figure size 1200x600 with 1 Axes>"
      ]
     },
     "metadata": {},
     "output_type": "display_data"
    }
   ],
   "source": [
    "plt.figure(figsize=(12, 6))\n",
    "sns.boxplot(x=df_filter['Mileage'])\n",
    "plt.title('Boxplot Mileage')\n",
    "plt.show()"
   ]
  },
  {
   "cell_type": "code",
   "execution_count": 573,
   "id": "4acad665",
   "metadata": {},
   "outputs": [
    {
     "data": {
      "image/png": "[encoded data removed]",
      "text/plain": [
       "<Figure size 1200x600 with 1 Axes>"
      ]
     },
     "metadata": {},
     "output_type": "display_data"
    }
   ],
   "source": [
    "plt.figure(figsize=(12, 6))\n",
    "sns.histplot(df_filter  ['Mileage'], bins=50, kde=True)\n",
    "plt.title('Distribusi Mileage Mobil')\n",
    "plt.xlabel('Mileage')\n",
    "plt.ylabel('Jumlah Mobil')\n",
    "plt.tight_layout()\n",
    "plt.show()"
   ]
  },
  {
   "cell_type": "markdown",
   "id": "60e65c39",
   "metadata": {},
   "source": [
    "- Dataset ini terdapat banyak mobil bekas dengan jarak tempuh yang masih sangat rendah\n",
    "- Outliernya cukup Ekstrim sehingga berpotensi merusak kemampuan model memprediksi"
   ]
  },
  {
   "cell_type": "markdown",
   "id": "f0fe584d",
   "metadata": {},
   "source": [
    "**Engine Size**"
   ]
  },
  {
   "cell_type": "code",
   "execution_count": 574,
   "id": "3f6461ce",
   "metadata": {},
   "outputs": [
    {
     "data": {
      "text/plain": [
       "count    3741.000000\n",
       "mean        3.191366\n",
       "std         1.459955\n",
       "min         1.000000\n",
       "25%         2.000000\n",
       "50%         2.700000\n",
       "75%         4.000000\n",
       "max         9.000000\n",
       "Name: Engine_Size, dtype: float64"
      ]
     },
     "execution_count": 574,
     "metadata": {},
     "output_type": "execute_result"
    }
   ],
   "source": [
    "# Cek deskriptif statistik kolom Engine_Size\n",
    "df_filter['Engine_Size'].describe()"
   ]
  },
  {
   "cell_type": "code",
   "execution_count": 575,
   "id": "60a0fc3f",
   "metadata": {},
   "outputs": [
    {
     "data": {
      "image/png": "[encoded data removed]",
      "text/plain": [
       "<Figure size 1200x600 with 1 Axes>"
      ]
     },
     "metadata": {},
     "output_type": "display_data"
    }
   ],
   "source": [
    "plt.figure(figsize=(12, 6))\n",
    "sns.histplot(df_filter  ['Engine_Size'], bins=50, kde=True)\n",
    "plt.title('Distribusi Engine_Size Mobil')\n",
    "plt.xlabel('Engine_Size')\n",
    "plt.ylabel('Jumlah Mobil')\n",
    "plt.tight_layout()\n",
    "plt.show()"
   ]
  },
  {
   "cell_type": "markdown",
   "id": "05db7c4f",
   "metadata": {},
   "source": [
    "- Sebaran Terpusat di Kapasitas Rendah (1.3 – 3.5 liter)\n",
    "- Engine Size > 4.0L Jarang . Mobil dengan mesin di atas 4.0 liter cukup jarang, dan semakin sedikit seiring bertambahnya kapasitas (terlihat menurun tajam di atas 6.0L). Biasanya ini mobil sport, off-road, atau mewah."
   ]
  },
  {
   "cell_type": "code",
   "execution_count": 576,
   "id": "234b826c",
   "metadata": {},
   "outputs": [
    {
     "data": {
      "application/vnd.microsoft.datawrangler.viewer.v0+json": {
       "columns": [
        {
         "name": "index",
         "rawType": "int64",
         "type": "integer"
        },
        {
         "name": "Type",
         "rawType": "object",
         "type": "string"
        },
        {
         "name": "Year",
         "rawType": "int64",
         "type": "integer"
        },
        {
         "name": "Engine_Size",
         "rawType": "float64",
         "type": "float"
        }
       ],
       "conversionMethod": "pd.DataFrame",
       "ref": "7cecb988-a3e7-424c-b4a8-ecddc8e657f8",
       "rows": [
        [
         "59",
         "Camry",
         "2001",
         "9.0"
        ],
        [
         "421",
         "Land Cruiser",
         "2014",
         "9.0"
        ],
        [
         "650",
         "E",
         "2017",
         "9.0"
        ],
        [
         "1076",
         "Land Cruiser",
         "1994",
         "9.0"
        ],
        [
         "5251",
         "Sierra",
         "2021",
         "9.0"
        ],
        [
         "5101",
         "Yukon",
         "2010",
         "9.0"
        ],
        [
         "5020",
         "LS",
         "2003",
         "9.0"
        ],
        [
         "3459",
         "ML",
         "1995",
         "9.0"
        ],
        [
         "3435",
         "Suburban",
         "1999",
         "9.0"
        ],
        [
         "3546",
         "Land Cruiser",
         "2009",
         "9.0"
        ],
        [
         "3525",
         "FJ",
         "2014",
         "9.0"
        ],
        [
         "3235",
         "Land Cruiser Pickup",
         "2020",
         "9.0"
        ],
        [
         "2217",
         "Camry",
         "2014",
         "9.0"
        ],
        [
         "2019",
         "Flex",
         "2011",
         "9.0"
        ],
        [
         "1547",
         "Marquis",
         "2008",
         "9.0"
        ],
        [
         "4484",
         "Suburban",
         "1999",
         "9.0"
        ],
        [
         "5571",
         "Expedition",
         "2013",
         "8.9"
        ],
        [
         "600",
         "G",
         "2015",
         "8.8"
        ],
        [
         "3848",
         "Range Rover",
         "2013",
         "8.7"
        ],
        [
         "4550",
         "Durango",
         "2013",
         "8.7"
        ],
        [
         "2778",
         "Tahoe",
         "2021",
         "8.5"
        ],
        [
         "1227",
         "Dyna",
         "2003",
         "8.5"
        ],
        [
         "2263",
         "CS35",
         "2021",
         "8.5"
        ],
        [
         "1",
         "Yukon",
         "2014",
         "8.0"
        ],
        [
         "137",
         "Yukon",
         "2008",
         "8.0"
        ],
        [
         "917",
         "Yukon",
         "2014",
         "8.0"
        ],
        [
         "1057",
         "F150",
         "2014",
         "8.0"
        ],
        [
         "617",
         "Thunderbird",
         "1965",
         "8.0"
        ],
        [
         "883",
         "Cadillac",
         "1995",
         "8.0"
        ],
        [
         "419",
         "Land Cruiser",
         "2015",
         "8.0"
        ],
        [
         "583",
         "LS",
         "2008",
         "8.0"
        ],
        [
         "4766",
         "Suburban",
         "2005",
         "8.0"
        ],
        [
         "4531",
         "Taurus",
         "2015",
         "8.0"
        ],
        [
         "3244",
         "Land Cruiser",
         "2012",
         "8.0"
        ],
        [
         "2467",
         "LS",
         "2008",
         "8.0"
        ],
        [
         "2921",
         "Expedition",
         "2012",
         "8.0"
        ],
        [
         "1891",
         "Sierra",
         "2021",
         "8.0"
        ],
        [
         "1813",
         "Carenz",
         "2014",
         "8.0"
        ],
        [
         "1224",
         "POS24",
         "1983",
         "8.0"
        ],
        [
         "1871",
         "POS24",
         "1975",
         "8.0"
        ],
        [
         "1235",
         "Silverado",
         "2013",
         "8.0"
        ],
        [
         "1706",
         "Armada",
         "2007",
         "8.0"
        ],
        [
         "1713",
         "Patrol",
         "2013",
         "8.0"
        ],
        [
         "1994",
         "Suburban",
         "2011",
         "8.0"
        ],
        [
         "1199",
         "Other",
         "2019",
         "8.0"
        ],
        [
         "1092",
         "Expedition",
         "2013",
         "8.0"
        ],
        [
         "1166",
         "Land Cruiser",
         "2008",
         "8.0"
        ],
        [
         "5239",
         "Tahoe",
         "2007",
         "8.0"
        ],
        [
         "5151",
         "Sierra",
         "2010",
         "8.0"
        ],
        [
         "4486",
         "POS24",
         "1982",
         "8.0"
        ]
       ],
       "shape": {
        "columns": 3,
        "rows": 79
       }
      },
      "text/html": [
       "<div>\n",
       "<style scoped>\n",
       "    .dataframe tbody tr th:only-of-type {\n",
       "        vertical-align: middle;\n",
       "    }\n",
       "\n",
       "    .dataframe tbody tr th {\n",
       "        vertical-align: top;\n",
       "    }\n",
       "\n",
       "    .dataframe thead th {\n",
       "        text-align: right;\n",
       "    }\n",
       "</style>\n",
       "<table border=\"1\" class=\"dataframe\">\n",
       "  <thead>\n",
       "    <tr style=\"text-align: right;\">\n",
       "      <th></th>\n",
       "      <th>Type</th>\n",
       "      <th>Year</th>\n",
       "      <th>Engine_Size</th>\n",
       "    </tr>\n",
       "  </thead>\n",
       "  <tbody>\n",
       "    <tr>\n",
       "      <th>59</th>\n",
       "      <td>Camry</td>\n",
       "      <td>2001</td>\n",
       "      <td>9.0</td>\n",
       "    </tr>\n",
       "    <tr>\n",
       "      <th>421</th>\n",
       "      <td>Land Cruiser</td>\n",
       "      <td>2014</td>\n",
       "      <td>9.0</td>\n",
       "    </tr>\n",
       "    <tr>\n",
       "      <th>650</th>\n",
       "      <td>E</td>\n",
       "      <td>2017</td>\n",
       "      <td>9.0</td>\n",
       "    </tr>\n",
       "    <tr>\n",
       "      <th>1076</th>\n",
       "      <td>Land Cruiser</td>\n",
       "      <td>1994</td>\n",
       "      <td>9.0</td>\n",
       "    </tr>\n",
       "    <tr>\n",
       "      <th>5251</th>\n",
       "      <td>Sierra</td>\n",
       "      <td>2021</td>\n",
       "      <td>9.0</td>\n",
       "    </tr>\n",
       "    <tr>\n",
       "      <th>...</th>\n",
       "      <td>...</td>\n",
       "      <td>...</td>\n",
       "      <td>...</td>\n",
       "    </tr>\n",
       "    <tr>\n",
       "      <th>750</th>\n",
       "      <td>LX</td>\n",
       "      <td>2018</td>\n",
       "      <td>7.5</td>\n",
       "    </tr>\n",
       "    <tr>\n",
       "      <th>963</th>\n",
       "      <td>D-MAX</td>\n",
       "      <td>2019</td>\n",
       "      <td>7.5</td>\n",
       "    </tr>\n",
       "    <tr>\n",
       "      <th>3010</th>\n",
       "      <td>FJ</td>\n",
       "      <td>2017</td>\n",
       "      <td>7.5</td>\n",
       "    </tr>\n",
       "    <tr>\n",
       "      <th>2283</th>\n",
       "      <td>Land Cruiser</td>\n",
       "      <td>2013</td>\n",
       "      <td>7.4</td>\n",
       "    </tr>\n",
       "    <tr>\n",
       "      <th>1400</th>\n",
       "      <td>Yukon</td>\n",
       "      <td>2008</td>\n",
       "      <td>7.2</td>\n",
       "    </tr>\n",
       "  </tbody>\n",
       "</table>\n",
       "<p>79 rows × 3 columns</p>\n",
       "</div>"
      ],
      "text/plain": [
       "              Type  Year  Engine_Size\n",
       "59           Camry  2001          9.0\n",
       "421   Land Cruiser  2014          9.0\n",
       "650              E  2017          9.0\n",
       "1076  Land Cruiser  1994          9.0\n",
       "5251        Sierra  2021          9.0\n",
       "...            ...   ...          ...\n",
       "750             LX  2018          7.5\n",
       "963          D-MAX  2019          7.5\n",
       "3010            FJ  2017          7.5\n",
       "2283  Land Cruiser  2013          7.4\n",
       "1400         Yukon  2008          7.2\n",
       "\n",
       "[79 rows x 3 columns]"
      ]
     },
     "execution_count": 576,
     "metadata": {},
     "output_type": "execute_result"
    }
   ],
   "source": [
    "engine_size = df[df['Engine_Size'] > 7][['Type', 'Year','Engine_Size']]\n",
    "engine_size.sort_values(by='Engine_Size', ascending=False)\n"
   ]
  },
  {
   "cell_type": "markdown",
   "id": "2c1686fd",
   "metadata": {},
   "source": [
    "Jika dilihat dari sini, terlihat ada Camry 2001 dengan Engine_Size **9.0** , sedangkan spesifikasi [Camry 2001](https://www.cars.com/research/toyota-camry-2001/specs/) tidak memiliki engine size **9.0**.\n",
    "\n",
    "Ada kemungkinan Outlier Engine Size ini memang dikarenakan ada mobil dengan engine size 9.0 (yang dimana ini sangat jarang) atau memang hanya kesalahan dari data set ini. Kesalahan pada data ini dapat menyebabkan kesalahan model dalam memprediksi harga. Namun untuk kasus ini dibutuhkan penanganan dengan expertise yang memiliki domain knowledge terkait mobil bekas, sehingga dataset yang digunakan bisa dibersihkan dari data-data anomali sebelum digunakan untuk training model."
   ]
  },
  {
   "cell_type": "markdown",
   "id": "b5028e83",
   "metadata": {},
   "source": [
    "**Year**"
   ]
  },
  {
   "cell_type": "code",
   "execution_count": 577,
   "id": "b6dc216e",
   "metadata": {},
   "outputs": [
    {
     "data": {
      "text/plain": [
       "count    3741.000000\n",
       "mean     2014.843892\n",
       "std         5.033652\n",
       "min      1963.000000\n",
       "25%      2013.000000\n",
       "50%      2016.000000\n",
       "75%      2018.000000\n",
       "max      2021.000000\n",
       "Name: Year, dtype: float64"
      ]
     },
     "execution_count": 577,
     "metadata": {},
     "output_type": "execute_result"
    }
   ],
   "source": [
    "# Cek deskriptif statistik kolom Year\n",
    "df_filter['Year'].describe()"
   ]
  },
  {
   "cell_type": "code",
   "execution_count": 578,
   "id": "377aa695",
   "metadata": {},
   "outputs": [
    {
     "data": {
      "image/png": "[encoded data removed]",
      "text/plain": [
       "<Figure size 1200x600 with 1 Axes>"
      ]
     },
     "metadata": {},
     "output_type": "display_data"
    }
   ],
   "source": [
    "plt.figure(figsize=(12, 6))\n",
    "sns.histplot(df_filter  ['Year'], bins=50, kde=True)\n",
    "plt.title('Distribusi Tahun Mobil')\n",
    "plt.xlabel('Year')\n",
    "plt.ylabel('Jumlah Mobil')\n",
    "plt.tight_layout()\n",
    "plt.show()"
   ]
  },
  {
   "cell_type": "markdown",
   "id": "a9d32cc7",
   "metadata": {},
   "source": [
    "- Tahun didominasi oleh mobil tahun 2012 - 2021, bisa mengganggu akurasi model saat memprediksi mobil dengan tahun tua ( 1990 kebawah )\n",
    "- Kemungkinan besar dataset ini adalah dataset tahun 2021, karena bisa dilihat tidak ada mobil diatas 2021"
   ]
  },
  {
   "cell_type": "markdown",
   "id": "6bc2da15",
   "metadata": {},
   "source": [
    "**Negotiable**"
   ]
  },
  {
   "cell_type": "code",
   "execution_count": 579,
   "id": "ca5bd91e",
   "metadata": {},
   "outputs": [
    {
     "name": "stdout",
     "output_type": "stream",
     "text": [
      "Nilai unik pada kolom Negotiable: [False]\n"
     ]
    }
   ],
   "source": [
    "print(\"Nilai unik pada kolom Negotiable:\", df_filter['Negotiable'].unique())\n",
    "\n"
   ]
  },
  {
   "cell_type": "markdown",
   "id": "249d22bd",
   "metadata": {},
   "source": [
    "- Semuanya memiliki value False pada kolom negotiable\n",
    "- Menandakan batasan model machine learning ini hanya untuk mobil yang tidak bisa dinego\n",
    "\n",
    "Selanjutnya proses dimana kolom `Negotiable` akan dihapus karena hanya memiliki satu value yaitu **False**. Karena model juga tidak bisa belajar apa-apa dikarenakan tidak adanya variasi pada kolom tersebut"
   ]
  },
  {
   "cell_type": "code",
   "execution_count": 580,
   "id": "4147737e",
   "metadata": {},
   "outputs": [],
   "source": [
    "df_filter = df_filter.drop(columns=['Negotiable'])"
   ]
  },
  {
   "cell_type": "code",
   "execution_count": 581,
   "id": "c0035c3e",
   "metadata": {},
   "outputs": [],
   "source": [
    "df_model = df_filter.copy() "
   ]
  },
  {
   "cell_type": "markdown",
   "id": "1bbdb900",
   "metadata": {},
   "source": [
    "**Encoding & Scaling**"
   ]
  },
  {
   "cell_type": "code",
   "execution_count": 582,
   "id": "4c574ac9",
   "metadata": {},
   "outputs": [],
   "source": [
    "from sklearn.compose import ColumnTransformer\n",
    "from sklearn.preprocessing import OrdinalEncoder, OneHotEncoder\n",
    "import category_encoders as ce\n",
    "from sklearn.pipeline import Pipeline\n",
    "\n",
    "# Buat encoder terlebih dahulu\n",
    "ordinal_encoder = OrdinalEncoder(categories=[['Standard', 'Semi Full', 'Full']])\n",
    "binary_encoder = ce.BinaryEncoder()\n",
    "\n",
    "# Definisikan transformer\n",
    "transformer = ColumnTransformer([\n",
    "    ('ordinal_options', ordinal_encoder, ['Options']),\n",
    "    ('onehot_small', OneHotEncoder(drop='first'), ['Gear_Type', 'Origin']),\n",
    "    ('binary_large', ce.BinaryEncoder(), ['Type', 'Make', 'Region'])\n",
    "], remainder='passthrough')"
   ]
  },
  {
   "cell_type": "markdown",
   "id": "45968e06",
   "metadata": {},
   "source": [
    "Options : Menggunakan ordinal encoder, karena seperti yang sudah dilihat sebelumnya, options memiliki tingkatan dari standard -> semi full -> full. Sehingga ordinal encoder paling sesuai untuk fitur ini.\n",
    "\n",
    "Gear_Type & Origin : Jumlah kategori kecil, sehingga sesuai untuk menggunakan One-Hot encoder.\n",
    "\n",
    "Type, Make & Region : Jumlah kategori besar, kurang sesuai jika menggunakan One-Hot encoder. Jadi hanya perlu mengubah ke bentuk numerik. "
   ]
  },
  {
   "cell_type": "markdown",
   "id": "240577ff",
   "metadata": {},
   "source": [
    "### **Modelling**"
   ]
  },
  {
   "cell_type": "code",
   "execution_count": 583,
   "id": "773520f8",
   "metadata": {},
   "outputs": [],
   "source": [
    "# Import library untuk modeling\n",
    "\n",
    "from sklearn.model_selection import train_test_split, cross_val_score, RandomizedSearchCV, GridSearchCV, KFold\n",
    "\n",
    "from sklearn.linear_model import LinearRegression\n",
    "from sklearn.neighbors import KNeighborsRegressor\n",
    "from sklearn.tree import DecisionTreeRegressor\n",
    "from sklearn.ensemble import RandomForestRegressor\n",
    "from xgboost.sklearn import XGBRegressor\n",
    "from sklearn.compose import TransformedTargetRegressor\n",
    "\n",
    "from sklearn.preprocessing import StandardScaler, RobustScaler\n",
    "\n",
    "from sklearn.metrics import r2_score, mean_squared_error, mean_absolute_error, mean_absolute_percentage_error"
   ]
  },
  {
   "cell_type": "markdown",
   "id": "9e06c5be",
   "metadata": {},
   "source": [
    "**Data Splitting**"
   ]
  },
  {
   "cell_type": "code",
   "execution_count": 584,
   "id": "5bdc7f0d",
   "metadata": {},
   "outputs": [],
   "source": [
    "# Memisahkan data independen variabel dengan target\n",
    "X = df_model.drop(['Price'], axis=1)\n",
    "y = df_model['Price']"
   ]
  },
  {
   "cell_type": "markdown",
   "id": "df734cca",
   "metadata": {},
   "source": [
    "**Train and Test Splitting**"
   ]
  },
  {
   "cell_type": "code",
   "execution_count": 585,
   "id": "cfc7313d",
   "metadata": {},
   "outputs": [],
   "source": [
    "# Splitting data training dan test dengan proporsi 70:30\n",
    "X_train, X_test, y_train, y_test= train_test_split(\n",
    "    X,\n",
    "    y,  \n",
    "    test_size=0.3,\n",
    "    random_state=1)"
   ]
  },
  {
   "cell_type": "markdown",
   "id": "28f9e6e0",
   "metadata": {},
   "source": [
    "**Choose a Benchmark Model**"
   ]
  },
  {
   "cell_type": "code",
   "execution_count": 586,
   "id": "bf72a3af",
   "metadata": {},
   "outputs": [
    {
     "name": "stdout",
     "output_type": "stream",
     "text": [
      "[-48626.58491713 -41349.64387429 -45443.48813583 -50556.85783145\n",
      " -65524.4925354 ] TransformedTargetRegressor(func=<ufunc 'log'>, inverse_func=<ufunc 'exp'>,\n",
      "                           regressor=LinearRegression())\n",
      "[-27105.20521904 -25098.76922196 -26915.38441182 -25651.66801511\n",
      " -29692.33780457] TransformedTargetRegressor(func=<ufunc 'log'>, inverse_func=<ufunc 'exp'>,\n",
      "                           regressor=LinearRegression())\n",
      "[-0.36296758 -0.38154532 -0.41205703 -0.30023008 -0.37335724] TransformedTargetRegressor(func=<ufunc 'log'>, inverse_func=<ufunc 'exp'>,\n",
      "                           regressor=LinearRegression())\n",
      "[-42784.67523118 -39331.39616812 -36674.71915155 -52281.02412926\n",
      " -65092.97469719] TransformedTargetRegressor(func=<ufunc 'log'>, inverse_func=<ufunc 'exp'>,\n",
      "                           regressor=KNeighborsRegressor())\n",
      "[-25982.59364157 -24864.05495665 -22106.61060472 -27143.08926211\n",
      " -29348.18992453] TransformedTargetRegressor(func=<ufunc 'log'>, inverse_func=<ufunc 'exp'>,\n",
      "                           regressor=KNeighborsRegressor())\n",
      "[-0.44398288 -0.4532464  -0.43085498 -0.35299679 -0.4396498 ] TransformedTargetRegressor(func=<ufunc 'log'>, inverse_func=<ufunc 'exp'>,\n",
      "                           regressor=KNeighborsRegressor())\n",
      "[-49892.92324647 -56748.62267956 -53054.13522293 -51319.07227018\n",
      " -58085.15997212] TransformedTargetRegressor(func=<ufunc 'log'>, inverse_func=<ufunc 'exp'>,\n",
      "                           regressor=DecisionTreeRegressor(random_state=1))\n",
      "[-22851.71564885 -26459.1353012  -24816.99085873 -23070.780426\n",
      " -27095.96558317] TransformedTargetRegressor(func=<ufunc 'log'>, inverse_func=<ufunc 'exp'>,\n",
      "                           regressor=DecisionTreeRegressor(random_state=1))\n",
      "[-0.31819787 -0.38465898 -0.47455446 -0.29971571 -0.37108149] TransformedTargetRegressor(func=<ufunc 'log'>, inverse_func=<ufunc 'exp'>,\n",
      "                           regressor=DecisionTreeRegressor(random_state=1))\n",
      "[-30941.84364191 -33099.0524728  -27720.15830154 -36993.96455396\n",
      " -48856.24720353] TransformedTargetRegressor(func=<ufunc 'log'>, inverse_func=<ufunc 'exp'>,\n",
      "                           regressor=RandomForestRegressor(random_state=1))\n",
      "[-16938.27097001 -17491.52448113 -15429.35346819 -16333.710723\n",
      " -19825.62448237] TransformedTargetRegressor(func=<ufunc 'log'>, inverse_func=<ufunc 'exp'>,\n",
      "                           regressor=RandomForestRegressor(random_state=1))\n",
      "[-0.23006741 -0.24278754 -0.24089169 -0.20522177 -0.23446853] TransformedTargetRegressor(func=<ufunc 'log'>, inverse_func=<ufunc 'exp'>,\n",
      "                           regressor=RandomForestRegressor(random_state=1))\n",
      "[-28264.41992188 -31018.49023438 -25361.99023438 -32031.8203125\n",
      " -42593.9765625 ] TransformedTargetRegressor(func=<ufunc 'log'>, inverse_func=<ufunc 'exp'>,\n",
      "                           regressor=XGBRegressor(base_score=None, booster=None,\n",
      "                                                  callbacks=None,\n",
      "                                                  colsample_bylevel=None,\n",
      "                                                  colsample_bynode=None,\n",
      "                                                  colsample_bytree=None,\n",
      "                                                  device=None,\n",
      "                                                  early_stopping_rounds=None,\n",
      "                                                  enable_categorical=False,\n",
      "                                                  eval_metric=None,\n",
      "                                                  feature_types=None,\n",
      "                                                  feature_weights=None,\n",
      "                                                  gamma=None, grow_policy=None,\n",
      "                                                  importance_type=None,\n",
      "                                                  interaction_constraints=None,\n",
      "                                                  learning_rate=None,\n",
      "                                                  max_bin=None,\n",
      "                                                  max_cat_threshold=None,\n",
      "                                                  max_cat_to_onehot=None,\n",
      "                                                  max_delta_step=None,\n",
      "                                                  max_depth=None,\n",
      "                                                  max_leaves=None,\n",
      "                                                  min_child_weight=None,\n",
      "                                                  missing=nan,\n",
      "                                                  monotone_constraints=None,\n",
      "                                                  multi_strategy=None,\n",
      "                                                  n_estimators=None,\n",
      "                                                  n_jobs=None,\n",
      "                                                  num_parallel_tree=None, ...))\n",
      "[-15656.171875   -16506.92773438 -14626.74707031 -15760.45410156\n",
      " -18285.72851562] TransformedTargetRegressor(func=<ufunc 'log'>, inverse_func=<ufunc 'exp'>,\n",
      "                           regressor=XGBRegressor(base_score=None, booster=None,\n",
      "                                                  callbacks=None,\n",
      "                                                  colsample_bylevel=None,\n",
      "                                                  colsample_bynode=None,\n",
      "                                                  colsample_bytree=None,\n",
      "                                                  device=None,\n",
      "                                                  early_stopping_rounds=None,\n",
      "                                                  enable_categorical=False,\n",
      "                                                  eval_metric=None,\n",
      "                                                  feature_types=None,\n",
      "                                                  feature_weights=None,\n",
      "                                                  gamma=None, grow_policy=None,\n",
      "                                                  importance_type=None,\n",
      "                                                  interaction_constraints=None,\n",
      "                                                  learning_rate=None,\n",
      "                                                  max_bin=None,\n",
      "                                                  max_cat_threshold=None,\n",
      "                                                  max_cat_to_onehot=None,\n",
      "                                                  max_delta_step=None,\n",
      "                                                  max_depth=None,\n",
      "                                                  max_leaves=None,\n",
      "                                                  min_child_weight=None,\n",
      "                                                  missing=nan,\n",
      "                                                  monotone_constraints=None,\n",
      "                                                  multi_strategy=None,\n",
      "                                                  n_estimators=None,\n",
      "                                                  n_jobs=None,\n",
      "                                                  num_parallel_tree=None, ...))\n",
      "[-0.21684711 -0.22944419 -0.235789   -0.19817071 -0.23033029] TransformedTargetRegressor(func=<ufunc 'log'>, inverse_func=<ufunc 'exp'>,\n",
      "                           regressor=XGBRegressor(base_score=None, booster=None,\n",
      "                                                  callbacks=None,\n",
      "                                                  colsample_bylevel=None,\n",
      "                                                  colsample_bynode=None,\n",
      "                                                  colsample_bytree=None,\n",
      "                                                  device=None,\n",
      "                                                  early_stopping_rounds=None,\n",
      "                                                  enable_categorical=False,\n",
      "                                                  eval_metric=None,\n",
      "                                                  feature_types=None,\n",
      "                                                  feature_weights=None,\n",
      "                                                  gamma=None, grow_policy=None,\n",
      "                                                  importance_type=None,\n",
      "                                                  interaction_constraints=None,\n",
      "                                                  learning_rate=None,\n",
      "                                                  max_bin=None,\n",
      "                                                  max_cat_threshold=None,\n",
      "                                                  max_cat_to_onehot=None,\n",
      "                                                  max_delta_step=None,\n",
      "                                                  max_depth=None,\n",
      "                                                  max_leaves=None,\n",
      "                                                  min_child_weight=None,\n",
      "                                                  missing=nan,\n",
      "                                                  monotone_constraints=None,\n",
      "                                                  multi_strategy=None,\n",
      "                                                  n_estimators=None,\n",
      "                                                  n_jobs=None,\n",
      "                                                  num_parallel_tree=None, ...))\n"
     ]
    }
   ],
   "source": [
    "# Define algoritma yang digunakan\n",
    "lr = LinearRegression()\n",
    "knn = KNeighborsRegressor()\n",
    "dt = DecisionTreeRegressor(random_state=1)\n",
    "rf = RandomForestRegressor(random_state=1)\n",
    "xgb = XGBRegressor(random_state=1)\n",
    "\n",
    "# Pemodelan dilakukan dalam skala logaritmik, namun kemudian di-inverse kembali untuk interpretasi\n",
    "log_lr = TransformedTargetRegressor(lr, func=np.log, inverse_func=np.exp)\n",
    "log_knn = TransformedTargetRegressor(knn, func=np.log, inverse_func=np.exp)\n",
    "log_dt = TransformedTargetRegressor(dt, func=np.log, inverse_func=np.exp)\n",
    "log_rf = TransformedTargetRegressor(rf, func=np.log, inverse_func=np.exp)\n",
    "log_xgb = TransformedTargetRegressor(xgb, func=np.log, inverse_func=np.exp)\n",
    "\n",
    "# Scaling data\n",
    "scaler = StandardScaler()\n",
    "\n",
    "# Kandidat algoritma\n",
    "models = [log_lr, log_knn, log_dt, log_rf, log_xgb]\n",
    "\n",
    "score_rmse = []\n",
    "nilai_mean_rmse = []\n",
    "nilai_std_rmse = []\n",
    "\n",
    "score_mae = []\n",
    "nilai_mean_mae = []\n",
    "nilai_std_mae = []\n",
    "\n",
    "score_mape = []\n",
    "nilai_mean_mape = []\n",
    "nilai_std_mape = []\n",
    "\n",
    "# Mencari algoritma terbaik berdasarkan tiap metrics\n",
    "for i in models:\n",
    "    \n",
    "    crossval = KFold(n_splits=5, shuffle=True, random_state=1)\n",
    "\n",
    "    estimator = Pipeline([\n",
    "        ('preprocessing', transformer),\n",
    "        ('scaler', scaler),\n",
    "        ('model', i)\n",
    "    ])\n",
    "\n",
    "    # RMSE\n",
    "    model_cv_rmse = cross_val_score(\n",
    "        estimator, \n",
    "        X_train, \n",
    "        y_train, \n",
    "        cv=crossval, \n",
    "        scoring='neg_root_mean_squared_error', \n",
    "        error_score='raise'\n",
    "        )\n",
    "\n",
    "    print(model_cv_rmse, i)\n",
    "\n",
    "    score_rmse.append(model_cv_rmse)\n",
    "    nilai_mean_rmse.append(model_cv_rmse.mean())\n",
    "    nilai_std_rmse.append(model_cv_rmse.std())\n",
    "\n",
    "    # MAE\n",
    "    model_cv_mae = cross_val_score(\n",
    "        estimator, \n",
    "        X_train, \n",
    "        y_train, \n",
    "        cv=crossval, \n",
    "        scoring='neg_mean_absolute_error', \n",
    "        error_score='raise'\n",
    "        )\n",
    "\n",
    "    print(model_cv_mae, i)\n",
    "\n",
    "    score_mae.append(model_cv_mae)\n",
    "    nilai_mean_mae.append(model_cv_mae.mean())\n",
    "    nilai_std_mae.append(model_cv_mae.std())\n",
    "\n",
    "    # MAPE\n",
    "    model_cv_mape = cross_val_score(\n",
    "        estimator, \n",
    "        X_train, \n",
    "        y_train, \n",
    "        cv=crossval, \n",
    "        scoring='neg_mean_absolute_percentage_error', \n",
    "        error_score='raise'\n",
    "        )\n",
    "\n",
    "    print(model_cv_mape, i)\n",
    "\n",
    "    score_mape.append(model_cv_mape)\n",
    "    nilai_mean_mape.append(model_cv_mape.mean())\n",
    "    nilai_std_mape.append(model_cv_mape.std())"
   ]
  },
  {
   "cell_type": "code",
   "execution_count": 587,
   "id": "76623256",
   "metadata": {},
   "outputs": [
    {
     "data": {
      "application/vnd.microsoft.datawrangler.viewer.v0+json": {
       "columns": [
        {
         "name": "index",
         "rawType": "int64",
         "type": "integer"
        },
        {
         "name": "Model",
         "rawType": "object",
         "type": "string"
        },
        {
         "name": "Mean_RMSE",
         "rawType": "float64",
         "type": "float"
        },
        {
         "name": "Std_RMSE",
         "rawType": "float64",
         "type": "float"
        },
        {
         "name": "Mean_MAE",
         "rawType": "float64",
         "type": "float"
        },
        {
         "name": "Std_MAE",
         "rawType": "float64",
         "type": "float"
        },
        {
         "name": "Mean_MAPE",
         "rawType": "float64",
         "type": "float"
        },
        {
         "name": "Std_MAPE",
         "rawType": "float64",
         "type": "float"
        }
       ],
       "conversionMethod": "pd.DataFrame",
       "ref": "23b7de03-ca46-4e42-8b31-8380273967f0",
       "rows": [
        [
         "0",
         "Linear Regression",
         "-50300.21345881971",
         "8226.129697271293",
         "-26892.672934499617",
         "1590.0938907949019",
         "-0.36603145094495715",
         "0.03674754140976663"
        ],
        [
         "1",
         "KNN Regressor",
         "-47232.957875459724",
         "10374.598542829983",
         "-25888.9076779151",
         "2404.349243260674",
         "-0.42414616890692275",
         "0.03629855075094405"
        ],
        [
         "2",
         "DecisionTree Regressor",
         "-53819.9826782522",
         "3131.502533292917",
         "-24858.917563589817",
         "1720.0658387168571",
         "-0.3696417018870842",
         "0.06127053283382561"
        ],
        [
         "3",
         "RandomForest Regressor",
         "-35522.253234748736",
         "7316.912855628799",
         "-17203.696824938303",
         "1478.7136605933536",
         "-0.2306873893154792",
         "0.013518289137693177"
        ],
        [
         "4",
         "XGBoost Regressor",
         "-31854.139453125",
         "5849.924256467737",
         "-16167.205859375",
         "1216.8126563993096",
         "-0.22211625874042512",
         "0.013485297038146528"
        ]
       ],
       "shape": {
        "columns": 7,
        "rows": 5
       }
      },
      "text/html": [
       "<div>\n",
       "<style scoped>\n",
       "    .dataframe tbody tr th:only-of-type {\n",
       "        vertical-align: middle;\n",
       "    }\n",
       "\n",
       "    .dataframe tbody tr th {\n",
       "        vertical-align: top;\n",
       "    }\n",
       "\n",
       "    .dataframe thead th {\n",
       "        text-align: right;\n",
       "    }\n",
       "</style>\n",
       "<table border=\"1\" class=\"dataframe\">\n",
       "  <thead>\n",
       "    <tr style=\"text-align: right;\">\n",
       "      <th></th>\n",
       "      <th>Model</th>\n",
       "      <th>Mean_RMSE</th>\n",
       "      <th>Std_RMSE</th>\n",
       "      <th>Mean_MAE</th>\n",
       "      <th>Std_MAE</th>\n",
       "      <th>Mean_MAPE</th>\n",
       "      <th>Std_MAPE</th>\n",
       "    </tr>\n",
       "  </thead>\n",
       "  <tbody>\n",
       "    <tr>\n",
       "      <th>0</th>\n",
       "      <td>Linear Regression</td>\n",
       "      <td>-50300.213459</td>\n",
       "      <td>8226.129697</td>\n",
       "      <td>-26892.672934</td>\n",
       "      <td>1590.093891</td>\n",
       "      <td>-0.366031</td>\n",
       "      <td>0.036748</td>\n",
       "    </tr>\n",
       "    <tr>\n",
       "      <th>1</th>\n",
       "      <td>KNN Regressor</td>\n",
       "      <td>-47232.957875</td>\n",
       "      <td>10374.598543</td>\n",
       "      <td>-25888.907678</td>\n",
       "      <td>2404.349243</td>\n",
       "      <td>-0.424146</td>\n",
       "      <td>0.036299</td>\n",
       "    </tr>\n",
       "    <tr>\n",
       "      <th>2</th>\n",
       "      <td>DecisionTree Regressor</td>\n",
       "      <td>-53819.982678</td>\n",
       "      <td>3131.502533</td>\n",
       "      <td>-24858.917564</td>\n",
       "      <td>1720.065839</td>\n",
       "      <td>-0.369642</td>\n",
       "      <td>0.061271</td>\n",
       "    </tr>\n",
       "    <tr>\n",
       "      <th>3</th>\n",
       "      <td>RandomForest Regressor</td>\n",
       "      <td>-35522.253235</td>\n",
       "      <td>7316.912856</td>\n",
       "      <td>-17203.696825</td>\n",
       "      <td>1478.713661</td>\n",
       "      <td>-0.230687</td>\n",
       "      <td>0.013518</td>\n",
       "    </tr>\n",
       "    <tr>\n",
       "      <th>4</th>\n",
       "      <td>XGBoost Regressor</td>\n",
       "      <td>-31854.139453</td>\n",
       "      <td>5849.924256</td>\n",
       "      <td>-16167.205859</td>\n",
       "      <td>1216.812656</td>\n",
       "      <td>-0.222116</td>\n",
       "      <td>0.013485</td>\n",
       "    </tr>\n",
       "  </tbody>\n",
       "</table>\n",
       "</div>"
      ],
      "text/plain": [
       "                    Model     Mean_RMSE      Std_RMSE      Mean_MAE  \\\n",
       "0       Linear Regression -50300.213459   8226.129697 -26892.672934   \n",
       "1           KNN Regressor -47232.957875  10374.598543 -25888.907678   \n",
       "2  DecisionTree Regressor -53819.982678   3131.502533 -24858.917564   \n",
       "3  RandomForest Regressor -35522.253235   7316.912856 -17203.696825   \n",
       "4       XGBoost Regressor -31854.139453   5849.924256 -16167.205859   \n",
       "\n",
       "       Std_MAE  Mean_MAPE  Std_MAPE  \n",
       "0  1590.093891  -0.366031  0.036748  \n",
       "1  2404.349243  -0.424146  0.036299  \n",
       "2  1720.065839  -0.369642  0.061271  \n",
       "3  1478.713661  -0.230687  0.013518  \n",
       "4  1216.812656  -0.222116  0.013485  "
      ]
     },
     "execution_count": 587,
     "metadata": {},
     "output_type": "execute_result"
    }
   ],
   "source": [
    "# Evaluasi hasil dari 5 kandidat algoritma yang digunakan\n",
    "pd.DataFrame({\n",
    "    'Model': ['Linear Regression', 'KNN Regressor', 'DecisionTree Regressor', 'RandomForest Regressor', 'XGBoost Regressor'],\n",
    "    'Mean_RMSE': nilai_mean_rmse,\n",
    "    'Std_RMSE': nilai_std_rmse,\n",
    "    'Mean_MAE': nilai_mean_mae,\n",
    "    'Std_MAE': nilai_std_mae,\n",
    "    'Mean_MAPE': nilai_mean_mape,\n",
    "    'Std_MAPE': nilai_std_mape\n",
    "})"
   ]
  },
  {
   "cell_type": "markdown",
   "id": "cf444686",
   "metadata": {},
   "source": [
    "Terlihat perbedaan besar antara RMSE dan MAE, berarti terdapat outlier pada errornya.\n",
    "\n",
    "Secara keseluruhan dari metriks yang digunakan, baik RMSE, MAE, maupun MAPE. **XGBoost** memiliki value paling baik, sehingga akan dilanjutkan menggunakan model boost.\n"
   ]
  },
  {
   "cell_type": "markdown",
   "id": "72bca2dc",
   "metadata": {},
   "source": [
    "**Predict to Test Set with the Benchmark Model**\n",
    "\n",
    "Prediksi pada test set dengan menggunakan model **XGBoost** dan **Random Forest** sebagai 2 model terbaik saat benchmarking. Lalu karena **XGBoost** adalah model terbaik, maka ditambah model boost lainnya dengan tujuan mencari hasil yang lebih baik. Model boost lainnya yang akan ditambah adalah **AdaBoost**, **Lightboost**, dan **CatBoost**."
   ]
  },
  {
   "cell_type": "code",
   "execution_count": 588,
   "id": "cd245bc9",
   "metadata": {},
   "outputs": [
    {
     "name": "stdout",
     "output_type": "stream",
     "text": [
      "[LightGBM] [Info] Auto-choosing row-wise multi-threading, the overhead of testing was 0.000928 seconds.\n",
      "You can set `force_row_wise=true` to remove the overhead.\n",
      "And if memory is not enough, you can set `force_col_wise=true`.\n",
      "[LightGBM] [Info] Total Bins 414\n",
      "[LightGBM] [Info] Number of data points in the train set: 2618, number of used features: 27\n",
      "[LightGBM] [Info] Start training from score 79420.422842\n"
     ]
    },
    {
     "data": {
      "application/vnd.microsoft.datawrangler.viewer.v0+json": {
       "columns": [
        {
         "name": "index",
         "rawType": "object",
         "type": "string"
        },
        {
         "name": "RMSE",
         "rawType": "float64",
         "type": "float"
        },
        {
         "name": "MAE",
         "rawType": "float64",
         "type": "float"
        },
        {
         "name": "MAPE",
         "rawType": "float64",
         "type": "float"
        }
       ],
       "conversionMethod": "pd.DataFrame",
       "ref": "4ca683f0-1a8c-4b79-9927-3d4a59666d8d",
       "rows": [
        [
         "XGBoost Regressor",
         "37296.39639428989",
         "19031.87109375",
         "0.28496524691581726"
        ],
        [
         "GradientBoosting",
         "42889.822536996304",
         "23422.238220476498",
         "0.3460073413640065"
        ],
        [
         "AdaBoost",
         "67967.88669088192",
         "57201.9592397762",
         "1.2850372382100956"
        ],
        [
         "LightGBM",
         "37159.35590814259",
         "18919.996877808702",
         "0.2795494352537773"
        ],
        [
         "CatBoost",
         "35274.27019683015",
         "17470.18376788093",
         "0.26219253019498523"
        ],
        [
         "RandomForest Regressor",
         "41156.14739503904",
         "20507.88484119917",
         "0.30280206783381675"
        ]
       ],
       "shape": {
        "columns": 3,
        "rows": 6
       }
      },
      "text/html": [
       "<div>\n",
       "<style scoped>\n",
       "    .dataframe tbody tr th:only-of-type {\n",
       "        vertical-align: middle;\n",
       "    }\n",
       "\n",
       "    .dataframe tbody tr th {\n",
       "        vertical-align: top;\n",
       "    }\n",
       "\n",
       "    .dataframe thead th {\n",
       "        text-align: right;\n",
       "    }\n",
       "</style>\n",
       "<table border=\"1\" class=\"dataframe\">\n",
       "  <thead>\n",
       "    <tr style=\"text-align: right;\">\n",
       "      <th></th>\n",
       "      <th>RMSE</th>\n",
       "      <th>MAE</th>\n",
       "      <th>MAPE</th>\n",
       "    </tr>\n",
       "  </thead>\n",
       "  <tbody>\n",
       "    <tr>\n",
       "      <th>XGBoost Regressor</th>\n",
       "      <td>37296.396394</td>\n",
       "      <td>19031.871094</td>\n",
       "      <td>0.284965</td>\n",
       "    </tr>\n",
       "    <tr>\n",
       "      <th>GradientBoosting</th>\n",
       "      <td>42889.822537</td>\n",
       "      <td>23422.238220</td>\n",
       "      <td>0.346007</td>\n",
       "    </tr>\n",
       "    <tr>\n",
       "      <th>AdaBoost</th>\n",
       "      <td>67967.886691</td>\n",
       "      <td>57201.959240</td>\n",
       "      <td>1.285037</td>\n",
       "    </tr>\n",
       "    <tr>\n",
       "      <th>LightGBM</th>\n",
       "      <td>37159.355908</td>\n",
       "      <td>18919.996878</td>\n",
       "      <td>0.279549</td>\n",
       "    </tr>\n",
       "    <tr>\n",
       "      <th>CatBoost</th>\n",
       "      <td>35274.270197</td>\n",
       "      <td>17470.183768</td>\n",
       "      <td>0.262193</td>\n",
       "    </tr>\n",
       "    <tr>\n",
       "      <th>RandomForest Regressor</th>\n",
       "      <td>41156.147395</td>\n",
       "      <td>20507.884841</td>\n",
       "      <td>0.302802</td>\n",
       "    </tr>\n",
       "  </tbody>\n",
       "</table>\n",
       "</div>"
      ],
      "text/plain": [
       "                                RMSE           MAE      MAPE\n",
       "XGBoost Regressor       37296.396394  19031.871094  0.284965\n",
       "GradientBoosting        42889.822537  23422.238220  0.346007\n",
       "AdaBoost                67967.886691  57201.959240  1.285037\n",
       "LightGBM                37159.355908  18919.996878  0.279549\n",
       "CatBoost                35274.270197  17470.183768  0.262193\n",
       "RandomForest Regressor  41156.147395  20507.884841  0.302802"
      ]
     },
     "execution_count": 588,
     "metadata": {},
     "output_type": "execute_result"
    }
   ],
   "source": [
    "from sklearn.ensemble import GradientBoostingRegressor, AdaBoostRegressor\n",
    "from lightgbm import LGBMRegressor\n",
    "from catboost import CatBoostRegressor\n",
    "\n",
    "# Inisialisasi model\n",
    "gbr = GradientBoostingRegressor(random_state=1)\n",
    "ada = AdaBoostRegressor(random_state=1)\n",
    "lgb = LGBMRegressor(random_state=1)\n",
    "cat = CatBoostRegressor(verbose=0, random_state=1)  # verbose=0 agar tidak banyak output\n",
    "\n",
    "# Tambahkan ke dictionary model untuk looping\n",
    "models = {\n",
    "    'XGBoost Regressor': xgb,\n",
    "    'GradientBoosting': gbr,\n",
    "    'AdaBoost': ada,\n",
    "    'LightGBM': lgb,\n",
    "    'CatBoost': cat,\n",
    "    'RandomForest Regressor': rf\n",
    "}\n",
    "\n",
    "score_rmse = []\n",
    "score_mae = []\n",
    "score_mape = []\n",
    "\n",
    "# Prediksi pada test set\n",
    "for i in models:\n",
    "\n",
    "    model = Pipeline([\n",
    "        ('preprocessing', transformer),\n",
    "        ('scaler', scaler),\n",
    "        ('model', models[i])\n",
    "        ])\n",
    "\n",
    "    model.fit(X_train, y_train)\n",
    "    y_pred = model.predict(X_test)\n",
    "    score_rmse.append(np.sqrt(mean_squared_error(y_test, y_pred)))\n",
    "    score_mae.append(mean_absolute_error(y_test, y_pred))\n",
    "    score_mape.append(mean_absolute_percentage_error(y_test, y_pred))\n",
    "\n",
    "score_before_tuning = pd.DataFrame({'RMSE': score_rmse, 'MAE': score_mae, 'MAPE': score_mape}, index=models.keys())\n",
    "score_before_tuning"
   ]
  },
  {
   "cell_type": "markdown",
   "id": "7fb8af55",
   "metadata": {},
   "source": [
    "Disini terlihat model **CatBoost** memiliki result paling baik, hal ini dikarenakan CatBoost memang dirancang untuk menangani fitur **kategorikal**, sesuai dengan dataset ini yang memiliki banyak fitur kategorikal."
   ]
  },
  {
   "cell_type": "markdown",
   "id": "d0052f96",
   "metadata": {},
   "source": [
    "**Hyperparameter Tuning**\n",
    "\n",
    "Karena model **CatBoost** memiliki performa yang paling baik dari model yang ada. \n",
    "\n",
    "Maka selanjutnya kita akan menggunakan model **CatBoost** ini sebagai model akhir. Pada tahap ini, kita akan melakukan hyperparameter tuning pada model **CatBoost** dengan harapan dapat meningkatkan performa model."
   ]
  },
  {
   "cell_type": "code",
   "execution_count": 589,
   "id": "c1d0a6f7",
   "metadata": {},
   "outputs": [
    {
     "name": "stdout",
     "output_type": "stream",
     "text": [
      "Fitting 5 folds for each of 20 candidates, totalling 100 fits\n"
     ]
    },
    {
     "data": {
      "text/html": [
       "<style>#sk-container-id-11 {\n",
       "  /* Definition of color scheme common for light and dark mode */\n",
       "  --sklearn-color-text: #000;\n",
       "  --sklearn-color-text-muted: #666;\n",
       "  --sklearn-color-line: gray;\n",
       "  /* Definition of color scheme for unfitted estimators */\n",
       "  --sklearn-color-unfitted-level-0: #fff5e6;\n",
       "  --sklearn-color-unfitted-level-1: #f6e4d2;\n",
       "  --sklearn-color-unfitted-level-2: #ffe0b3;\n",
       "  --sklearn-color-unfitted-level-3: chocolate;\n",
       "  /* Definition of color scheme for fitted estimators */\n",
       "  --sklearn-color-fitted-level-0: #f0f8ff;\n",
       "  --sklearn-color-fitted-level-1: #d4ebff;\n",
       "  --sklearn-color-fitted-level-2: #b3dbfd;\n",
       "  --sklearn-color-fitted-level-3: cornflowerblue;\n",
       "\n",
       "  /* Specific color for light theme */\n",
       "  --sklearn-color-text-on-default-background: var(--sg-text-color, var(--theme-code-foreground, var(--jp-content-font-color1, black)));\n",
       "  --sklearn-color-background: var(--sg-background-color, var(--theme-background, var(--jp-layout-color0, white)));\n",
       "  --sklearn-color-border-box: var(--sg-text-color, var(--theme-code-foreground, var(--jp-content-font-color1, black)));\n",
       "  --sklearn-color-icon: #696969;\n",
       "\n",
       "  @media (prefers-color-scheme: dark) {\n",
       "    /* Redefinition of color scheme for dark theme */\n",
       "    --sklearn-color-text-on-default-background: var(--sg-text-color, var(--theme-code-foreground, var(--jp-content-font-color1, white)));\n",
       "    --sklearn-color-background: var(--sg-background-color, var(--theme-background, var(--jp-layout-color0, #111)));\n",
       "    --sklearn-color-border-box: var(--sg-text-color, var(--theme-code-foreground, var(--jp-content-font-color1, white)));\n",
       "    --sklearn-color-icon: #878787;\n",
       "  }\n",
       "}\n",
       "\n",
       "#sk-container-id-11 {\n",
       "  color: var(--sklearn-color-text);\n",
       "}\n",
       "\n",
       "#sk-container-id-11 pre {\n",
       "  padding: 0;\n",
       "}\n",
       "\n",
       "#sk-container-id-11 input.sk-hidden--visually {\n",
       "  border: 0;\n",
       "  clip: rect(1px 1px 1px 1px);\n",
       "  clip: rect(1px, 1px, 1px, 1px);\n",
       "  height: 1px;\n",
       "  margin: -1px;\n",
       "  overflow: hidden;\n",
       "  padding: 0;\n",
       "  position: absolute;\n",
       "  width: 1px;\n",
       "}\n",
       "\n",
       "#sk-container-id-11 div.sk-dashed-wrapped {\n",
       "  border: 1px dashed var(--sklearn-color-line);\n",
       "  margin: 0 0.4em 0.5em 0.4em;\n",
       "  box-sizing: border-box;\n",
       "  padding-bottom: 0.4em;\n",
       "  background-color: var(--sklearn-color-background);\n",
       "}\n",
       "\n",
       "#sk-container-id-11 div.sk-container {\n",
       "  /* jupyter's `normalize.less` sets `[hidden] { display: none; }`\n",
       "     but bootstrap.min.css set `[hidden] { display: none !important; }`\n",
       "     so we also need the `!important` here to be able to override the\n",
       "     default hidden behavior on the sphinx rendered scikit-learn.org.\n",
       "     See: https://github.com/scikit-learn/scikit-learn/issues/21755 */\n",
       "  display: inline-block !important;\n",
       "  position: relative;\n",
       "}\n",
       "\n",
       "#sk-container-id-11 div.sk-text-repr-fallback {\n",
       "  display: none;\n",
       "}\n",
       "\n",
       "div.sk-parallel-item,\n",
       "div.sk-serial,\n",
       "div.sk-item {\n",
       "  /* draw centered vertical line to link estimators */\n",
       "  background-image: linear-gradient(var(--sklearn-color-text-on-default-background), var(--sklearn-color-text-on-default-background));\n",
       "  background-size: 2px 100%;\n",
       "  background-repeat: no-repeat;\n",
       "  background-position: center center;\n",
       "}\n",
       "\n",
       "/* Parallel-specific style estimator block */\n",
       "\n",
       "#sk-container-id-11 div.sk-parallel-item::after {\n",
       "  content: \"\";\n",
       "  width: 100%;\n",
       "  border-bottom: 2px solid var(--sklearn-color-text-on-default-background);\n",
       "  flex-grow: 1;\n",
       "}\n",
       "\n",
       "#sk-container-id-11 div.sk-parallel {\n",
       "  display: flex;\n",
       "  align-items: stretch;\n",
       "  justify-content: center;\n",
       "  background-color: var(--sklearn-color-background);\n",
       "  position: relative;\n",
       "}\n",
       "\n",
       "#sk-container-id-11 div.sk-parallel-item {\n",
       "  display: flex;\n",
       "  flex-direction: column;\n",
       "}\n",
       "\n",
       "#sk-container-id-11 div.sk-parallel-item:first-child::after {\n",
       "  align-self: flex-end;\n",
       "  width: 50%;\n",
       "}\n",
       "\n",
       "#sk-container-id-11 div.sk-parallel-item:last-child::after {\n",
       "  align-self: flex-start;\n",
       "  width: 50%;\n",
       "}\n",
       "\n",
       "#sk-container-id-11 div.sk-parallel-item:only-child::after {\n",
       "  width: 0;\n",
       "}\n",
       "\n",
       "/* Serial-specific style estimator block */\n",
       "\n",
       "#sk-container-id-11 div.sk-serial {\n",
       "  display: flex;\n",
       "  flex-direction: column;\n",
       "  align-items: center;\n",
       "  background-color: var(--sklearn-color-background);\n",
       "  padding-right: 1em;\n",
       "  padding-left: 1em;\n",
       "}\n",
       "\n",
       "\n",
       "/* Toggleable style: style used for estimator/Pipeline/ColumnTransformer box that is\n",
       "clickable and can be expanded/collapsed.\n",
       "- Pipeline and ColumnTransformer use this feature and define the default style\n",
       "- Estimators will overwrite some part of the style using the `sk-estimator` class\n",
       "*/\n",
       "\n",
       "/* Pipeline and ColumnTransformer style (default) */\n",
       "\n",
       "#sk-container-id-11 div.sk-toggleable {\n",
       "  /* Default theme specific background. It is overwritten whether we have a\n",
       "  specific estimator or a Pipeline/ColumnTransformer */\n",
       "  background-color: var(--sklearn-color-background);\n",
       "}\n",
       "\n",
       "/* Toggleable label */\n",
       "#sk-container-id-11 label.sk-toggleable__label {\n",
       "  cursor: pointer;\n",
       "  display: flex;\n",
       "  width: 100%;\n",
       "  margin-bottom: 0;\n",
       "  padding: 0.5em;\n",
       "  box-sizing: border-box;\n",
       "  text-align: center;\n",
       "  align-items: start;\n",
       "  justify-content: space-between;\n",
       "  gap: 0.5em;\n",
       "}\n",
       "\n",
       "#sk-container-id-11 label.sk-toggleable__label .caption {\n",
       "  font-size: 0.6rem;\n",
       "  font-weight: lighter;\n",
       "  color: var(--sklearn-color-text-muted);\n",
       "}\n",
       "\n",
       "#sk-container-id-11 label.sk-toggleable__label-arrow:before {\n",
       "  /* Arrow on the left of the label */\n",
       "  content: \"▸\";\n",
       "  float: left;\n",
       "  margin-right: 0.25em;\n",
       "  color: var(--sklearn-color-icon);\n",
       "}\n",
       "\n",
       "#sk-container-id-11 label.sk-toggleable__label-arrow:hover:before {\n",
       "  color: var(--sklearn-color-text);\n",
       "}\n",
       "\n",
       "/* Toggleable content - dropdown */\n",
       "\n",
       "#sk-container-id-11 div.sk-toggleable__content {\n",
       "  max-height: 0;\n",
       "  max-width: 0;\n",
       "  overflow: hidden;\n",
       "  text-align: left;\n",
       "  /* unfitted */\n",
       "  background-color: var(--sklearn-color-unfitted-level-0);\n",
       "}\n",
       "\n",
       "#sk-container-id-11 div.sk-toggleable__content.fitted {\n",
       "  /* fitted */\n",
       "  background-color: var(--sklearn-color-fitted-level-0);\n",
       "}\n",
       "\n",
       "#sk-container-id-11 div.sk-toggleable__content pre {\n",
       "  margin: 0.2em;\n",
       "  border-radius: 0.25em;\n",
       "  color: var(--sklearn-color-text);\n",
       "  /* unfitted */\n",
       "  background-color: var(--sklearn-color-unfitted-level-0);\n",
       "}\n",
       "\n",
       "#sk-container-id-11 div.sk-toggleable__content.fitted pre {\n",
       "  /* unfitted */\n",
       "  background-color: var(--sklearn-color-fitted-level-0);\n",
       "}\n",
       "\n",
       "#sk-container-id-11 input.sk-toggleable__control:checked~div.sk-toggleable__content {\n",
       "  /* Expand drop-down */\n",
       "  max-height: 200px;\n",
       "  max-width: 100%;\n",
       "  overflow: auto;\n",
       "}\n",
       "\n",
       "#sk-container-id-11 input.sk-toggleable__control:checked~label.sk-toggleable__label-arrow:before {\n",
       "  content: \"▾\";\n",
       "}\n",
       "\n",
       "/* Pipeline/ColumnTransformer-specific style */\n",
       "\n",
       "#sk-container-id-11 div.sk-label input.sk-toggleable__control:checked~label.sk-toggleable__label {\n",
       "  color: var(--sklearn-color-text);\n",
       "  background-color: var(--sklearn-color-unfitted-level-2);\n",
       "}\n",
       "\n",
       "#sk-container-id-11 div.sk-label.fitted input.sk-toggleable__control:checked~label.sk-toggleable__label {\n",
       "  background-color: var(--sklearn-color-fitted-level-2);\n",
       "}\n",
       "\n",
       "/* Estimator-specific style */\n",
       "\n",
       "/* Colorize estimator box */\n",
       "#sk-container-id-11 div.sk-estimator input.sk-toggleable__control:checked~label.sk-toggleable__label {\n",
       "  /* unfitted */\n",
       "  background-color: var(--sklearn-color-unfitted-level-2);\n",
       "}\n",
       "\n",
       "#sk-container-id-11 div.sk-estimator.fitted input.sk-toggleable__control:checked~label.sk-toggleable__label {\n",
       "  /* fitted */\n",
       "  background-color: var(--sklearn-color-fitted-level-2);\n",
       "}\n",
       "\n",
       "#sk-container-id-11 div.sk-label label.sk-toggleable__label,\n",
       "#sk-container-id-11 div.sk-label label {\n",
       "  /* The background is the default theme color */\n",
       "  color: var(--sklearn-color-text-on-default-background);\n",
       "}\n",
       "\n",
       "/* On hover, darken the color of the background */\n",
       "#sk-container-id-11 div.sk-label:hover label.sk-toggleable__label {\n",
       "  color: var(--sklearn-color-text);\n",
       "  background-color: var(--sklearn-color-unfitted-level-2);\n",
       "}\n",
       "\n",
       "/* Label box, darken color on hover, fitted */\n",
       "#sk-container-id-11 div.sk-label.fitted:hover label.sk-toggleable__label.fitted {\n",
       "  color: var(--sklearn-color-text);\n",
       "  background-color: var(--sklearn-color-fitted-level-2);\n",
       "}\n",
       "\n",
       "/* Estimator label */\n",
       "\n",
       "#sk-container-id-11 div.sk-label label {\n",
       "  font-family: monospace;\n",
       "  font-weight: bold;\n",
       "  display: inline-block;\n",
       "  line-height: 1.2em;\n",
       "}\n",
       "\n",
       "#sk-container-id-11 div.sk-label-container {\n",
       "  text-align: center;\n",
       "}\n",
       "\n",
       "/* Estimator-specific */\n",
       "#sk-container-id-11 div.sk-estimator {\n",
       "  font-family: monospace;\n",
       "  border: 1px dotted var(--sklearn-color-border-box);\n",
       "  border-radius: 0.25em;\n",
       "  box-sizing: border-box;\n",
       "  margin-bottom: 0.5em;\n",
       "  /* unfitted */\n",
       "  background-color: var(--sklearn-color-unfitted-level-0);\n",
       "}\n",
       "\n",
       "#sk-container-id-11 div.sk-estimator.fitted {\n",
       "  /* fitted */\n",
       "  background-color: var(--sklearn-color-fitted-level-0);\n",
       "}\n",
       "\n",
       "/* on hover */\n",
       "#sk-container-id-11 div.sk-estimator:hover {\n",
       "  /* unfitted */\n",
       "  background-color: var(--sklearn-color-unfitted-level-2);\n",
       "}\n",
       "\n",
       "#sk-container-id-11 div.sk-estimator.fitted:hover {\n",
       "  /* fitted */\n",
       "  background-color: var(--sklearn-color-fitted-level-2);\n",
       "}\n",
       "\n",
       "/* Specification for estimator info (e.g. \"i\" and \"?\") */\n",
       "\n",
       "/* Common style for \"i\" and \"?\" */\n",
       "\n",
       ".sk-estimator-doc-link,\n",
       "a:link.sk-estimator-doc-link,\n",
       "a:visited.sk-estimator-doc-link {\n",
       "  float: right;\n",
       "  font-size: smaller;\n",
       "  line-height: 1em;\n",
       "  font-family: monospace;\n",
       "  background-color: var(--sklearn-color-background);\n",
       "  border-radius: 1em;\n",
       "  height: 1em;\n",
       "  width: 1em;\n",
       "  text-decoration: none !important;\n",
       "  margin-left: 0.5em;\n",
       "  text-align: center;\n",
       "  /* unfitted */\n",
       "  border: var(--sklearn-color-unfitted-level-1) 1pt solid;\n",
       "  color: var(--sklearn-color-unfitted-level-1);\n",
       "}\n",
       "\n",
       ".sk-estimator-doc-link.fitted,\n",
       "a:link.sk-estimator-doc-link.fitted,\n",
       "a:visited.sk-estimator-doc-link.fitted {\n",
       "  /* fitted */\n",
       "  border: var(--sklearn-color-fitted-level-1) 1pt solid;\n",
       "  color: var(--sklearn-color-fitted-level-1);\n",
       "}\n",
       "\n",
       "/* On hover */\n",
       "div.sk-estimator:hover .sk-estimator-doc-link:hover,\n",
       ".sk-estimator-doc-link:hover,\n",
       "div.sk-label-container:hover .sk-estimator-doc-link:hover,\n",
       ".sk-estimator-doc-link:hover {\n",
       "  /* unfitted */\n",
       "  background-color: var(--sklearn-color-unfitted-level-3);\n",
       "  color: var(--sklearn-color-background);\n",
       "  text-decoration: none;\n",
       "}\n",
       "\n",
       "div.sk-estimator.fitted:hover .sk-estimator-doc-link.fitted:hover,\n",
       ".sk-estimator-doc-link.fitted:hover,\n",
       "div.sk-label-container:hover .sk-estimator-doc-link.fitted:hover,\n",
       ".sk-estimator-doc-link.fitted:hover {\n",
       "  /* fitted */\n",
       "  background-color: var(--sklearn-color-fitted-level-3);\n",
       "  color: var(--sklearn-color-background);\n",
       "  text-decoration: none;\n",
       "}\n",
       "\n",
       "/* Span, style for the box shown on hovering the info icon */\n",
       ".sk-estimator-doc-link span {\n",
       "  display: none;\n",
       "  z-index: 9999;\n",
       "  position: relative;\n",
       "  font-weight: normal;\n",
       "  right: .2ex;\n",
       "  padding: .5ex;\n",
       "  margin: .5ex;\n",
       "  width: min-content;\n",
       "  min-width: 20ex;\n",
       "  max-width: 50ex;\n",
       "  color: var(--sklearn-color-text);\n",
       "  box-shadow: 2pt 2pt 4pt #999;\n",
       "  /* unfitted */\n",
       "  background: var(--sklearn-color-unfitted-level-0);\n",
       "  border: .5pt solid var(--sklearn-color-unfitted-level-3);\n",
       "}\n",
       "\n",
       ".sk-estimator-doc-link.fitted span {\n",
       "  /* fitted */\n",
       "  background: var(--sklearn-color-fitted-level-0);\n",
       "  border: var(--sklearn-color-fitted-level-3);\n",
       "}\n",
       "\n",
       ".sk-estimator-doc-link:hover span {\n",
       "  display: block;\n",
       "}\n",
       "\n",
       "/* \"?\"-specific style due to the `<a>` HTML tag */\n",
       "\n",
       "#sk-container-id-11 a.estimator_doc_link {\n",
       "  float: right;\n",
       "  font-size: 1rem;\n",
       "  line-height: 1em;\n",
       "  font-family: monospace;\n",
       "  background-color: var(--sklearn-color-background);\n",
       "  border-radius: 1rem;\n",
       "  height: 1rem;\n",
       "  width: 1rem;\n",
       "  text-decoration: none;\n",
       "  /* unfitted */\n",
       "  color: var(--sklearn-color-unfitted-level-1);\n",
       "  border: var(--sklearn-color-unfitted-level-1) 1pt solid;\n",
       "}\n",
       "\n",
       "#sk-container-id-11 a.estimator_doc_link.fitted {\n",
       "  /* fitted */\n",
       "  border: var(--sklearn-color-fitted-level-1) 1pt solid;\n",
       "  color: var(--sklearn-color-fitted-level-1);\n",
       "}\n",
       "\n",
       "/* On hover */\n",
       "#sk-container-id-11 a.estimator_doc_link:hover {\n",
       "  /* unfitted */\n",
       "  background-color: var(--sklearn-color-unfitted-level-3);\n",
       "  color: var(--sklearn-color-background);\n",
       "  text-decoration: none;\n",
       "}\n",
       "\n",
       "#sk-container-id-11 a.estimator_doc_link.fitted:hover {\n",
       "  /* fitted */\n",
       "  background-color: var(--sklearn-color-fitted-level-3);\n",
       "}\n",
       "</style><div id=\"sk-container-id-11\" class=\"sk-top-container\"><div class=\"sk-text-repr-fallback\"><pre>RandomizedSearchCV(cv=5,\n",
       "                   estimator=Pipeline(steps=[(&#x27;preprocessing&#x27;,\n",
       "                                              ColumnTransformer(remainder=&#x27;passthrough&#x27;,\n",
       "                                                                transformers=[(&#x27;ordinal_options&#x27;,\n",
       "                                                                               OrdinalEncoder(categories=[[&#x27;Standard&#x27;,\n",
       "                                                                                                           &#x27;Semi &#x27;\n",
       "                                                                                                           &#x27;Full&#x27;,\n",
       "                                                                                                           &#x27;Full&#x27;]]),\n",
       "                                                                               [&#x27;Options&#x27;]),\n",
       "                                                                              (&#x27;onehot_small&#x27;,\n",
       "                                                                               OneHotEncoder(drop=&#x27;first&#x27;),\n",
       "                                                                               [&#x27;Gear_Type&#x27;,\n",
       "                                                                                &#x27;Origin&#x27;]),\n",
       "                                                                              (&#x27;binary_large&#x27;,\n",
       "                                                                               BinaryEncoder(),\n",
       "                                                                               [&#x27;Type&#x27;,\n",
       "                                                                                &#x27;Make&#x27;,\n",
       "                                                                                &#x27;Region&#x27;])])),\n",
       "                                             (&#x27;sc...\n",
       "                                        &#x27;model__learning_rate&#x27;: [0.01, 0.05,\n",
       "                                                                 0.1]},\n",
       "                   random_state=1, refit=&#x27;neg_root_mean_squared_error&#x27;,\n",
       "                   scoring={&#x27;neg_mean_absolute_error&#x27;: &#x27;neg_mean_absolute_error&#x27;,\n",
       "                            &#x27;neg_mean_absolute_percentage_error&#x27;: make_scorer(mean_absolute_percentage_error, greater_is_better=False, response_method=&#x27;predict&#x27;),\n",
       "                            &#x27;neg_root_mean_squared_error&#x27;: &#x27;neg_root_mean_squared_error&#x27;},\n",
       "                   verbose=2)</pre><b>In a Jupyter environment, please rerun this cell to show the HTML representation or trust the notebook. <br />On GitHub, the HTML representation is unable to render, please try loading this page with nbviewer.org.</b></div><div class=\"sk-container\" hidden><div class=\"sk-item sk-dashed-wrapped\"><div class=\"sk-label-container\"><div class=\"sk-label fitted sk-toggleable\"><input class=\"sk-toggleable__control sk-hidden--visually\" id=\"sk-estimator-id-137\" type=\"checkbox\" ><label for=\"sk-estimator-id-137\" class=\"sk-toggleable__label fitted sk-toggleable__label-arrow\"><div><div>RandomizedSearchCV</div></div><div><a class=\"sk-estimator-doc-link fitted\" rel=\"noreferrer\" target=\"_blank\" href=\"https://scikit-learn.org/1.6/modules/generated/sklearn.model_selection.RandomizedSearchCV.html\">?<span>Documentation for RandomizedSearchCV</span></a><span class=\"sk-estimator-doc-link fitted\">i<span>Fitted</span></span></div></label><div class=\"sk-toggleable__content fitted\"><pre>RandomizedSearchCV(cv=5,\n",
       "                   estimator=Pipeline(steps=[(&#x27;preprocessing&#x27;,\n",
       "                                              ColumnTransformer(remainder=&#x27;passthrough&#x27;,\n",
       "                                                                transformers=[(&#x27;ordinal_options&#x27;,\n",
       "                                                                               OrdinalEncoder(categories=[[&#x27;Standard&#x27;,\n",
       "                                                                                                           &#x27;Semi &#x27;\n",
       "                                                                                                           &#x27;Full&#x27;,\n",
       "                                                                                                           &#x27;Full&#x27;]]),\n",
       "                                                                               [&#x27;Options&#x27;]),\n",
       "                                                                              (&#x27;onehot_small&#x27;,\n",
       "                                                                               OneHotEncoder(drop=&#x27;first&#x27;),\n",
       "                                                                               [&#x27;Gear_Type&#x27;,\n",
       "                                                                                &#x27;Origin&#x27;]),\n",
       "                                                                              (&#x27;binary_large&#x27;,\n",
       "                                                                               BinaryEncoder(),\n",
       "                                                                               [&#x27;Type&#x27;,\n",
       "                                                                                &#x27;Make&#x27;,\n",
       "                                                                                &#x27;Region&#x27;])])),\n",
       "                                             (&#x27;sc...\n",
       "                                        &#x27;model__learning_rate&#x27;: [0.01, 0.05,\n",
       "                                                                 0.1]},\n",
       "                   random_state=1, refit=&#x27;neg_root_mean_squared_error&#x27;,\n",
       "                   scoring={&#x27;neg_mean_absolute_error&#x27;: &#x27;neg_mean_absolute_error&#x27;,\n",
       "                            &#x27;neg_mean_absolute_percentage_error&#x27;: make_scorer(mean_absolute_percentage_error, greater_is_better=False, response_method=&#x27;predict&#x27;),\n",
       "                            &#x27;neg_root_mean_squared_error&#x27;: &#x27;neg_root_mean_squared_error&#x27;},\n",
       "                   verbose=2)</pre></div> </div></div><div class=\"sk-parallel\"><div class=\"sk-parallel-item\"><div class=\"sk-item\"><div class=\"sk-label-container\"><div class=\"sk-label fitted sk-toggleable\"><input class=\"sk-toggleable__control sk-hidden--visually\" id=\"sk-estimator-id-138\" type=\"checkbox\" ><label for=\"sk-estimator-id-138\" class=\"sk-toggleable__label fitted sk-toggleable__label-arrow\"><div><div>best_estimator_: Pipeline</div></div></label><div class=\"sk-toggleable__content fitted\"><pre>Pipeline(steps=[(&#x27;preprocessing&#x27;,\n",
       "                 ColumnTransformer(remainder=&#x27;passthrough&#x27;,\n",
       "                                   transformers=[(&#x27;ordinal_options&#x27;,\n",
       "                                                  OrdinalEncoder(categories=[[&#x27;Standard&#x27;,\n",
       "                                                                              &#x27;Semi &#x27;\n",
       "                                                                              &#x27;Full&#x27;,\n",
       "                                                                              &#x27;Full&#x27;]]),\n",
       "                                                  [&#x27;Options&#x27;]),\n",
       "                                                 (&#x27;onehot_small&#x27;,\n",
       "                                                  OneHotEncoder(drop=&#x27;first&#x27;),\n",
       "                                                  [&#x27;Gear_Type&#x27;, &#x27;Origin&#x27;]),\n",
       "                                                 (&#x27;binary_large&#x27;,\n",
       "                                                  BinaryEncoder(),\n",
       "                                                  [&#x27;Type&#x27;, &#x27;Make&#x27;,\n",
       "                                                   &#x27;Region&#x27;])])),\n",
       "                (&#x27;scaler&#x27;, StandardScaler()),\n",
       "                (&#x27;model&#x27;,\n",
       "                 &lt;catboost.core.CatBoostRegressor object at 0x0000027151668F80&gt;)])</pre></div> </div></div><div class=\"sk-serial\"><div class=\"sk-item\"><div class=\"sk-serial\"><div class=\"sk-item sk-dashed-wrapped\"><div class=\"sk-label-container\"><div class=\"sk-label fitted sk-toggleable\"><input class=\"sk-toggleable__control sk-hidden--visually\" id=\"sk-estimator-id-139\" type=\"checkbox\" ><label for=\"sk-estimator-id-139\" class=\"sk-toggleable__label fitted sk-toggleable__label-arrow\"><div><div>preprocessing: ColumnTransformer</div></div><div><a class=\"sk-estimator-doc-link fitted\" rel=\"noreferrer\" target=\"_blank\" href=\"https://scikit-learn.org/1.6/modules/generated/sklearn.compose.ColumnTransformer.html\">?<span>Documentation for preprocessing: ColumnTransformer</span></a></div></label><div class=\"sk-toggleable__content fitted\"><pre>ColumnTransformer(remainder=&#x27;passthrough&#x27;,\n",
       "                  transformers=[(&#x27;ordinal_options&#x27;,\n",
       "                                 OrdinalEncoder(categories=[[&#x27;Standard&#x27;,\n",
       "                                                             &#x27;Semi Full&#x27;,\n",
       "                                                             &#x27;Full&#x27;]]),\n",
       "                                 [&#x27;Options&#x27;]),\n",
       "                                (&#x27;onehot_small&#x27;, OneHotEncoder(drop=&#x27;first&#x27;),\n",
       "                                 [&#x27;Gear_Type&#x27;, &#x27;Origin&#x27;]),\n",
       "                                (&#x27;binary_large&#x27;, BinaryEncoder(),\n",
       "                                 [&#x27;Type&#x27;, &#x27;Make&#x27;, &#x27;Region&#x27;])])</pre></div> </div></div><div class=\"sk-parallel\"><div class=\"sk-parallel-item\"><div class=\"sk-item\"><div class=\"sk-label-container\"><div class=\"sk-label fitted sk-toggleable\"><input class=\"sk-toggleable__control sk-hidden--visually\" id=\"sk-estimator-id-140\" type=\"checkbox\" ><label for=\"sk-estimator-id-140\" class=\"sk-toggleable__label fitted sk-toggleable__label-arrow\"><div><div>ordinal_options</div></div></label><div class=\"sk-toggleable__content fitted\"><pre>[&#x27;Options&#x27;]</pre></div> </div></div><div class=\"sk-serial\"><div class=\"sk-item\"><div class=\"sk-estimator fitted sk-toggleable\"><input class=\"sk-toggleable__control sk-hidden--visually\" id=\"sk-estimator-id-141\" type=\"checkbox\" ><label for=\"sk-estimator-id-141\" class=\"sk-toggleable__label fitted sk-toggleable__label-arrow\"><div><div>OrdinalEncoder</div></div><div><a class=\"sk-estimator-doc-link fitted\" rel=\"noreferrer\" target=\"_blank\" href=\"https://scikit-learn.org/1.6/modules/generated/sklearn.preprocessing.OrdinalEncoder.html\">?<span>Documentation for OrdinalEncoder</span></a></div></label><div class=\"sk-toggleable__content fitted\"><pre>OrdinalEncoder(categories=[[&#x27;Standard&#x27;, &#x27;Semi Full&#x27;, &#x27;Full&#x27;]])</pre></div> </div></div></div></div></div><div class=\"sk-parallel-item\"><div class=\"sk-item\"><div class=\"sk-label-container\"><div class=\"sk-label fitted sk-toggleable\"><input class=\"sk-toggleable__control sk-hidden--visually\" id=\"sk-estimator-id-142\" type=\"checkbox\" ><label for=\"sk-estimator-id-142\" class=\"sk-toggleable__label fitted sk-toggleable__label-arrow\"><div><div>onehot_small</div></div></label><div class=\"sk-toggleable__content fitted\"><pre>[&#x27;Gear_Type&#x27;, &#x27;Origin&#x27;]</pre></div> </div></div><div class=\"sk-serial\"><div class=\"sk-item\"><div class=\"sk-estimator fitted sk-toggleable\"><input class=\"sk-toggleable__control sk-hidden--visually\" id=\"sk-estimator-id-143\" type=\"checkbox\" ><label for=\"sk-estimator-id-143\" class=\"sk-toggleable__label fitted sk-toggleable__label-arrow\"><div><div>OneHotEncoder</div></div><div><a class=\"sk-estimator-doc-link fitted\" rel=\"noreferrer\" target=\"_blank\" href=\"https://scikit-learn.org/1.6/modules/generated/sklearn.preprocessing.OneHotEncoder.html\">?<span>Documentation for OneHotEncoder</span></a></div></label><div class=\"sk-toggleable__content fitted\"><pre>OneHotEncoder(drop=&#x27;first&#x27;)</pre></div> </div></div></div></div></div><div class=\"sk-parallel-item\"><div class=\"sk-item\"><div class=\"sk-label-container\"><div class=\"sk-label fitted sk-toggleable\"><input class=\"sk-toggleable__control sk-hidden--visually\" id=\"sk-estimator-id-144\" type=\"checkbox\" ><label for=\"sk-estimator-id-144\" class=\"sk-toggleable__label fitted sk-toggleable__label-arrow\"><div><div>binary_large</div></div></label><div class=\"sk-toggleable__content fitted\"><pre>[&#x27;Type&#x27;, &#x27;Make&#x27;, &#x27;Region&#x27;]</pre></div> </div></div><div class=\"sk-serial\"><div class=\"sk-item\"><div class=\"sk-estimator fitted sk-toggleable\"><input class=\"sk-toggleable__control sk-hidden--visually\" id=\"sk-estimator-id-145\" type=\"checkbox\" ><label for=\"sk-estimator-id-145\" class=\"sk-toggleable__label fitted sk-toggleable__label-arrow\"><div><div>BinaryEncoder</div></div></label><div class=\"sk-toggleable__content fitted\"><pre>BinaryEncoder()</pre></div> </div></div></div></div></div><div class=\"sk-parallel-item\"><div class=\"sk-item\"><div class=\"sk-label-container\"><div class=\"sk-label fitted sk-toggleable\"><input class=\"sk-toggleable__control sk-hidden--visually\" id=\"sk-estimator-id-146\" type=\"checkbox\" ><label for=\"sk-estimator-id-146\" class=\"sk-toggleable__label fitted sk-toggleable__label-arrow\"><div><div>remainder</div></div></label><div class=\"sk-toggleable__content fitted\"><pre>[&#x27;Year&#x27;, &#x27;Engine_Size&#x27;, &#x27;Mileage&#x27;]</pre></div> </div></div><div class=\"sk-serial\"><div class=\"sk-item\"><div class=\"sk-estimator fitted sk-toggleable\"><input class=\"sk-toggleable__control sk-hidden--visually\" id=\"sk-estimator-id-147\" type=\"checkbox\" ><label for=\"sk-estimator-id-147\" class=\"sk-toggleable__label fitted sk-toggleable__label-arrow\"><div><div>passthrough</div></div></label><div class=\"sk-toggleable__content fitted\"><pre>passthrough</pre></div> </div></div></div></div></div></div></div><div class=\"sk-item\"><div class=\"sk-estimator fitted sk-toggleable\"><input class=\"sk-toggleable__control sk-hidden--visually\" id=\"sk-estimator-id-148\" type=\"checkbox\" ><label for=\"sk-estimator-id-148\" class=\"sk-toggleable__label fitted sk-toggleable__label-arrow\"><div><div>StandardScaler</div></div><div><a class=\"sk-estimator-doc-link fitted\" rel=\"noreferrer\" target=\"_blank\" href=\"https://scikit-learn.org/1.6/modules/generated/sklearn.preprocessing.StandardScaler.html\">?<span>Documentation for StandardScaler</span></a></div></label><div class=\"sk-toggleable__content fitted\"><pre>StandardScaler()</pre></div> </div></div><div class=\"sk-item\"><div class=\"sk-estimator fitted sk-toggleable\"><input class=\"sk-toggleable__control sk-hidden--visually\" id=\"sk-estimator-id-149\" type=\"checkbox\" ><label for=\"sk-estimator-id-149\" class=\"sk-toggleable__label fitted sk-toggleable__label-arrow\"><div><div>CatBoostRegressor</div></div></label><div class=\"sk-toggleable__content fitted\"><pre>&lt;catboost.core.CatBoostRegressor object at 0x0000027151668F80&gt;</pre></div> </div></div></div></div></div></div></div></div></div></div></div>"
      ],
      "text/plain": [
       "RandomizedSearchCV(cv=5,\n",
       "                   estimator=Pipeline(steps=[('preprocessing',\n",
       "                                              ColumnTransformer(remainder='passthrough',\n",
       "                                                                transformers=[('ordinal_options',\n",
       "                                                                               OrdinalEncoder(categories=[['Standard',\n",
       "                                                                                                           'Semi '\n",
       "                                                                                                           'Full',\n",
       "                                                                                                           'Full']]),\n",
       "                                                                               ['Options']),\n",
       "                                                                              ('onehot_small',\n",
       "                                                                               OneHotEncoder(drop='first'),\n",
       "                                                                               ['Gear_Type',\n",
       "                                                                                'Origin']),\n",
       "                                                                              ('binary_large',\n",
       "                                                                               BinaryEncoder(),\n",
       "                                                                               ['Type',\n",
       "                                                                                'Make',\n",
       "                                                                                'Region'])])),\n",
       "                                             ('sc...\n",
       "                                        'model__learning_rate': [0.01, 0.05,\n",
       "                                                                 0.1]},\n",
       "                   random_state=1, refit='neg_root_mean_squared_error',\n",
       "                   scoring={'neg_mean_absolute_error': 'neg_mean_absolute_error',\n",
       "                            'neg_mean_absolute_percentage_error': make_scorer(mean_absolute_percentage_error, greater_is_better=False, response_method='predict'),\n",
       "                            'neg_root_mean_squared_error': 'neg_root_mean_squared_error'},\n",
       "                   verbose=2)"
      ]
     },
     "execution_count": 589,
     "metadata": {},
     "output_type": "execute_result"
    }
   ],
   "source": [
    "from sklearn.model_selection import RandomizedSearchCV\n",
    "from sklearn.metrics import make_scorer, mean_absolute_error, mean_absolute_percentage_error\n",
    "\n",
    "# Parameter grid\n",
    "param_dist = {\n",
    "    'model__iterations': [100, 300, 500],\n",
    "    'model__depth': [4, 6, 8, 10],\n",
    "    'model__learning_rate': [0.01, 0.05, 0.1],\n",
    "    'model__l2_leaf_reg': [1, 3, 5, 7],\n",
    "    'model__border_count': [32, 64, 128]\n",
    "}\n",
    "\n",
    "scoring = {\n",
    "    'neg_root_mean_squared_error': 'neg_root_mean_squared_error',\n",
    "    'neg_mean_absolute_error': 'neg_mean_absolute_error',\n",
    "    'neg_mean_absolute_percentage_error': make_scorer(mean_absolute_percentage_error, greater_is_better=False)\n",
    "}\n",
    "\n",
    "cat_pipeline = Pipeline([\n",
    "    ('preprocessing', transformer),\n",
    "    ('scaler', scaler),\n",
    "    ('model', CatBoostRegressor(verbose=0, random_state=1))\n",
    "])\n",
    "\n",
    "random_search_cat = RandomizedSearchCV(\n",
    "    estimator=cat_pipeline,\n",
    "    param_distributions=param_dist,\n",
    "    n_iter=20,\n",
    "    scoring=scoring,\n",
    "    refit='neg_root_mean_squared_error',  # model terbaik berdasarkan RMSE  \n",
    "    cv=5,\n",
    "    random_state=1,\n",
    "    n_jobs=-1,\n",
    "    verbose=2\n",
    ")\n",
    "\n",
    "# Jalankan tuning\n",
    "random_search_cat.fit(X_train, y_train)"
   ]
  },
  {
   "cell_type": "markdown",
   "id": "521f3f14",
   "metadata": {},
   "source": [
    "Proses hyperparameter tuning disini memiliki tujuan untuk mendapatkan MAPE terbaik, tujuannya agar bisa meminimalisir kesalahan yang besar (outlier error) namun tetap kita lihat MAPEnya karena MAPE juga berfungsi untuk masalah konsistensi prediksi harga mobil rendah hingga mahal. Metode yang digunakan adalah **RandomziedSearch**, yang dimana hanya mencoba secara acak dari kombinasi parameter. Hal ini dipilih karena resource yang dibutuhkan untuk komputasi lebih rendah dibanding gridsearch yang memakan waktu cukup lama.\n",
    "\n",
    "Pada proses ini ruang parameternya ada **432 kombinasi**, namun karena tadi yang disebutkan diatas. Hanya akan diambil **20 kombinasi** secara acak untuk meminimalisir resource dan waktu komputasi.\n",
    "\n"
   ]
  },
  {
   "cell_type": "code",
   "execution_count": 590,
   "id": "9e13af69",
   "metadata": {},
   "outputs": [
    {
     "data": {
      "application/vnd.microsoft.datawrangler.viewer.v0+json": {
       "columns": [
        {
         "name": "index",
         "rawType": "int64",
         "type": "integer"
        },
        {
         "name": "params",
         "rawType": "object",
         "type": "unknown"
        },
        {
         "name": "mean_test_RMSE",
         "rawType": "float64",
         "type": "float"
        },
        {
         "name": "mean_test_MAE",
         "rawType": "float64",
         "type": "float"
        },
        {
         "name": "mean_test_MAPE",
         "rawType": "float64",
         "type": "float"
        }
       ],
       "conversionMethod": "pd.DataFrame",
       "ref": "ef868ea9-d658-47a1-bec4-5b066dd30801",
       "rows": [
        [
         "8",
         "{'model__learning_rate': 0.1, 'model__l2_leaf_reg': 3, 'model__iterations': 500, 'model__depth': 8, 'model__border_count': 32}",
         "30342.256954711705",
         "15386.712645568166",
         "0.24599710359203847"
        ],
        [
         "16",
         "{'model__learning_rate': 0.1, 'model__l2_leaf_reg': 1, 'model__iterations': 500, 'model__depth': 8, 'model__border_count': 64}",
         "30891.553057505233",
         "15413.446324966633",
         "0.24005949083423123"
        ],
        [
         "4",
         "{'model__learning_rate': 0.1, 'model__l2_leaf_reg': 5, 'model__iterations': 300, 'model__depth': 8, 'model__border_count': 64}",
         "31135.46895705435",
         "15884.758082429049",
         "0.24960198456741103"
        ],
        [
         "17",
         "{'model__learning_rate': 0.05, 'model__l2_leaf_reg': 5, 'model__iterations': 500, 'model__depth': 8, 'model__border_count': 64}",
         "31162.26926471298",
         "15813.22561922587",
         "0.24667350052560638"
        ],
        [
         "12",
         "{'model__learning_rate': 0.05, 'model__l2_leaf_reg': 5, 'model__iterations': 500, 'model__depth': 8, 'model__border_count': 128}",
         "31359.445292977744",
         "15985.026843834767",
         "0.25019516317976226"
        ],
        [
         "10",
         "{'model__learning_rate': 0.05, 'model__l2_leaf_reg': 3, 'model__iterations': 300, 'model__depth': 8, 'model__border_count': 64}",
         "31515.772600187793",
         "16081.439909731329",
         "0.24968232640417076"
        ],
        [
         "7",
         "{'model__learning_rate': 0.1, 'model__l2_leaf_reg': 7, 'model__iterations': 500, 'model__depth': 6, 'model__border_count': 128}",
         "31952.606896863923",
         "16443.3334062274",
         "0.251766141086388"
        ],
        [
         "1",
         "{'model__learning_rate': 0.1, 'model__l2_leaf_reg': 3, 'model__iterations': 100, 'model__depth': 8, 'model__border_count': 128}",
         "32463.923821568715",
         "16770.639374404655",
         "0.2612192951131901"
        ],
        [
         "15",
         "{'model__learning_rate': 0.1, 'model__l2_leaf_reg': 5, 'model__iterations': 100, 'model__depth': 10, 'model__border_count': 64}",
         "34561.10254425358",
         "17646.6671263119",
         "0.2933486939152591"
        ],
        [
         "3",
         "{'model__learning_rate': 0.1, 'model__l2_leaf_reg': 7, 'model__iterations': 100, 'model__depth': 10, 'model__border_count': 32}",
         "35371.095982848776",
         "18184.63088061963",
         "0.3052870799711199"
        ],
        [
         "11",
         "{'model__learning_rate': 0.1, 'model__l2_leaf_reg': 3, 'model__iterations': 300, 'model__depth': 4, 'model__border_count': 64}",
         "35709.4478606484",
         "19279.213968544158",
         "0.29449976867540206"
        ],
        [
         "18",
         "{'model__learning_rate': 0.01, 'model__l2_leaf_reg': 1, 'model__iterations': 300, 'model__depth': 8, 'model__border_count': 64}",
         "36960.42483382879",
         "20301.426207397417",
         "0.3497374418121569"
        ],
        [
         "13",
         "{'model__learning_rate': 0.01, 'model__l2_leaf_reg': 7, 'model__iterations': 500, 'model__depth': 8, 'model__border_count': 64}",
         "37065.443033746684",
         "19975.527599401677",
         "0.3348314707277908"
        ],
        [
         "9",
         "{'model__learning_rate': 0.01, 'model__l2_leaf_reg': 5, 'model__iterations': 300, 'model__depth': 10, 'model__border_count': 64}",
         "40633.782915636744",
         "22176.86632079265",
         "0.4136146631347094"
        ],
        [
         "19",
         "{'model__learning_rate': 0.05, 'model__l2_leaf_reg': 1, 'model__iterations': 100, 'model__depth': 4, 'model__border_count': 128}",
         "40687.90390090534",
         "23007.635894939755",
         "0.36016457670594976"
        ],
        [
         "0",
         "{'model__learning_rate': 0.05, 'model__l2_leaf_reg': 3, 'model__iterations': 100, 'model__depth': 4, 'model__border_count': 128}",
         "40774.6279897964",
         "23048.5290107526",
         "0.363137283085207"
        ],
        [
         "6",
         "{'model__learning_rate': 0.05, 'model__l2_leaf_reg': 3, 'model__iterations': 100, 'model__depth': 4, 'model__border_count': 32}",
         "40855.91373069484",
         "23202.92626982461",
         "0.36310684823483663"
        ],
        [
         "14",
         "{'model__learning_rate': 0.05, 'model__l2_leaf_reg': 5, 'model__iterations': 100, 'model__depth': 4, 'model__border_count': 128}",
         "41090.31504142768",
         "23327.00674221112",
         "0.36988164342122526"
        ],
        [
         "2",
         "{'model__learning_rate': 0.01, 'model__l2_leaf_reg': 5, 'model__iterations': 100, 'model__depth': 8, 'model__border_count': 128}",
         "52786.213252374975",
         "32046.67687862964",
         "0.6396557694790255"
        ],
        [
         "5",
         "{'model__learning_rate': 0.01, 'model__l2_leaf_reg': 7, 'model__iterations': 100, 'model__depth': 10, 'model__border_count': 32}",
         "55108.48238497975",
         "33596.20254402376",
         "0.6846660745850641"
        ]
       ],
       "shape": {
        "columns": 4,
        "rows": 20
       }
      },
      "text/html": [
       "<div>\n",
       "<style scoped>\n",
       "    .dataframe tbody tr th:only-of-type {\n",
       "        vertical-align: middle;\n",
       "    }\n",
       "\n",
       "    .dataframe tbody tr th {\n",
       "        vertical-align: top;\n",
       "    }\n",
       "\n",
       "    .dataframe thead th {\n",
       "        text-align: right;\n",
       "    }\n",
       "</style>\n",
       "<table border=\"1\" class=\"dataframe\">\n",
       "  <thead>\n",
       "    <tr style=\"text-align: right;\">\n",
       "      <th></th>\n",
       "      <th>params</th>\n",
       "      <th>mean_test_RMSE</th>\n",
       "      <th>mean_test_MAE</th>\n",
       "      <th>mean_test_MAPE</th>\n",
       "    </tr>\n",
       "  </thead>\n",
       "  <tbody>\n",
       "    <tr>\n",
       "      <th>8</th>\n",
       "      <td>{'model__learning_rate': 0.1, 'model__l2_leaf_...</td>\n",
       "      <td>30342.256955</td>\n",
       "      <td>15386.712646</td>\n",
       "      <td>0.245997</td>\n",
       "    </tr>\n",
       "    <tr>\n",
       "      <th>16</th>\n",
       "      <td>{'model__learning_rate': 0.1, 'model__l2_leaf_...</td>\n",
       "      <td>30891.553058</td>\n",
       "      <td>15413.446325</td>\n",
       "      <td>0.240059</td>\n",
       "    </tr>\n",
       "    <tr>\n",
       "      <th>4</th>\n",
       "      <td>{'model__learning_rate': 0.1, 'model__l2_leaf_...</td>\n",
       "      <td>31135.468957</td>\n",
       "      <td>15884.758082</td>\n",
       "      <td>0.249602</td>\n",
       "    </tr>\n",
       "    <tr>\n",
       "      <th>17</th>\n",
       "      <td>{'model__learning_rate': 0.05, 'model__l2_leaf...</td>\n",
       "      <td>31162.269265</td>\n",
       "      <td>15813.225619</td>\n",
       "      <td>0.246674</td>\n",
       "    </tr>\n",
       "    <tr>\n",
       "      <th>12</th>\n",
       "      <td>{'model__learning_rate': 0.05, 'model__l2_leaf...</td>\n",
       "      <td>31359.445293</td>\n",
       "      <td>15985.026844</td>\n",
       "      <td>0.250195</td>\n",
       "    </tr>\n",
       "    <tr>\n",
       "      <th>10</th>\n",
       "      <td>{'model__learning_rate': 0.05, 'model__l2_leaf...</td>\n",
       "      <td>31515.772600</td>\n",
       "      <td>16081.439910</td>\n",
       "      <td>0.249682</td>\n",
       "    </tr>\n",
       "    <tr>\n",
       "      <th>7</th>\n",
       "      <td>{'model__learning_rate': 0.1, 'model__l2_leaf_...</td>\n",
       "      <td>31952.606897</td>\n",
       "      <td>16443.333406</td>\n",
       "      <td>0.251766</td>\n",
       "    </tr>\n",
       "    <tr>\n",
       "      <th>1</th>\n",
       "      <td>{'model__learning_rate': 0.1, 'model__l2_leaf_...</td>\n",
       "      <td>32463.923822</td>\n",
       "      <td>16770.639374</td>\n",
       "      <td>0.261219</td>\n",
       "    </tr>\n",
       "    <tr>\n",
       "      <th>15</th>\n",
       "      <td>{'model__learning_rate': 0.1, 'model__l2_leaf_...</td>\n",
       "      <td>34561.102544</td>\n",
       "      <td>17646.667126</td>\n",
       "      <td>0.293349</td>\n",
       "    </tr>\n",
       "    <tr>\n",
       "      <th>3</th>\n",
       "      <td>{'model__learning_rate': 0.1, 'model__l2_leaf_...</td>\n",
       "      <td>35371.095983</td>\n",
       "      <td>18184.630881</td>\n",
       "      <td>0.305287</td>\n",
       "    </tr>\n",
       "    <tr>\n",
       "      <th>11</th>\n",
       "      <td>{'model__learning_rate': 0.1, 'model__l2_leaf_...</td>\n",
       "      <td>35709.447861</td>\n",
       "      <td>19279.213969</td>\n",
       "      <td>0.294500</td>\n",
       "    </tr>\n",
       "    <tr>\n",
       "      <th>18</th>\n",
       "      <td>{'model__learning_rate': 0.01, 'model__l2_leaf...</td>\n",
       "      <td>36960.424834</td>\n",
       "      <td>20301.426207</td>\n",
       "      <td>0.349737</td>\n",
       "    </tr>\n",
       "    <tr>\n",
       "      <th>13</th>\n",
       "      <td>{'model__learning_rate': 0.01, 'model__l2_leaf...</td>\n",
       "      <td>37065.443034</td>\n",
       "      <td>19975.527599</td>\n",
       "      <td>0.334831</td>\n",
       "    </tr>\n",
       "    <tr>\n",
       "      <th>9</th>\n",
       "      <td>{'model__learning_rate': 0.01, 'model__l2_leaf...</td>\n",
       "      <td>40633.782916</td>\n",
       "      <td>22176.866321</td>\n",
       "      <td>0.413615</td>\n",
       "    </tr>\n",
       "    <tr>\n",
       "      <th>19</th>\n",
       "      <td>{'model__learning_rate': 0.05, 'model__l2_leaf...</td>\n",
       "      <td>40687.903901</td>\n",
       "      <td>23007.635895</td>\n",
       "      <td>0.360165</td>\n",
       "    </tr>\n",
       "    <tr>\n",
       "      <th>0</th>\n",
       "      <td>{'model__learning_rate': 0.05, 'model__l2_leaf...</td>\n",
       "      <td>40774.627990</td>\n",
       "      <td>23048.529011</td>\n",
       "      <td>0.363137</td>\n",
       "    </tr>\n",
       "    <tr>\n",
       "      <th>6</th>\n",
       "      <td>{'model__learning_rate': 0.05, 'model__l2_leaf...</td>\n",
       "      <td>40855.913731</td>\n",
       "      <td>23202.926270</td>\n",
       "      <td>0.363107</td>\n",
       "    </tr>\n",
       "    <tr>\n",
       "      <th>14</th>\n",
       "      <td>{'model__learning_rate': 0.05, 'model__l2_leaf...</td>\n",
       "      <td>41090.315041</td>\n",
       "      <td>23327.006742</td>\n",
       "      <td>0.369882</td>\n",
       "    </tr>\n",
       "    <tr>\n",
       "      <th>2</th>\n",
       "      <td>{'model__learning_rate': 0.01, 'model__l2_leaf...</td>\n",
       "      <td>52786.213252</td>\n",
       "      <td>32046.676879</td>\n",
       "      <td>0.639656</td>\n",
       "    </tr>\n",
       "    <tr>\n",
       "      <th>5</th>\n",
       "      <td>{'model__learning_rate': 0.01, 'model__l2_leaf...</td>\n",
       "      <td>55108.482385</td>\n",
       "      <td>33596.202544</td>\n",
       "      <td>0.684666</td>\n",
       "    </tr>\n",
       "  </tbody>\n",
       "</table>\n",
       "</div>"
      ],
      "text/plain": [
       "                                               params  mean_test_RMSE  \\\n",
       "8   {'model__learning_rate': 0.1, 'model__l2_leaf_...    30342.256955   \n",
       "16  {'model__learning_rate': 0.1, 'model__l2_leaf_...    30891.553058   \n",
       "4   {'model__learning_rate': 0.1, 'model__l2_leaf_...    31135.468957   \n",
       "17  {'model__learning_rate': 0.05, 'model__l2_leaf...    31162.269265   \n",
       "12  {'model__learning_rate': 0.05, 'model__l2_leaf...    31359.445293   \n",
       "10  {'model__learning_rate': 0.05, 'model__l2_leaf...    31515.772600   \n",
       "7   {'model__learning_rate': 0.1, 'model__l2_leaf_...    31952.606897   \n",
       "1   {'model__learning_rate': 0.1, 'model__l2_leaf_...    32463.923822   \n",
       "15  {'model__learning_rate': 0.1, 'model__l2_leaf_...    34561.102544   \n",
       "3   {'model__learning_rate': 0.1, 'model__l2_leaf_...    35371.095983   \n",
       "11  {'model__learning_rate': 0.1, 'model__l2_leaf_...    35709.447861   \n",
       "18  {'model__learning_rate': 0.01, 'model__l2_leaf...    36960.424834   \n",
       "13  {'model__learning_rate': 0.01, 'model__l2_leaf...    37065.443034   \n",
       "9   {'model__learning_rate': 0.01, 'model__l2_leaf...    40633.782916   \n",
       "19  {'model__learning_rate': 0.05, 'model__l2_leaf...    40687.903901   \n",
       "0   {'model__learning_rate': 0.05, 'model__l2_leaf...    40774.627990   \n",
       "6   {'model__learning_rate': 0.05, 'model__l2_leaf...    40855.913731   \n",
       "14  {'model__learning_rate': 0.05, 'model__l2_leaf...    41090.315041   \n",
       "2   {'model__learning_rate': 0.01, 'model__l2_leaf...    52786.213252   \n",
       "5   {'model__learning_rate': 0.01, 'model__l2_leaf...    55108.482385   \n",
       "\n",
       "    mean_test_MAE  mean_test_MAPE  \n",
       "8    15386.712646        0.245997  \n",
       "16   15413.446325        0.240059  \n",
       "4    15884.758082        0.249602  \n",
       "17   15813.225619        0.246674  \n",
       "12   15985.026844        0.250195  \n",
       "10   16081.439910        0.249682  \n",
       "7    16443.333406        0.251766  \n",
       "1    16770.639374        0.261219  \n",
       "15   17646.667126        0.293349  \n",
       "3    18184.630881        0.305287  \n",
       "11   19279.213969        0.294500  \n",
       "18   20301.426207        0.349737  \n",
       "13   19975.527599        0.334831  \n",
       "9    22176.866321        0.413615  \n",
       "19   23007.635895        0.360165  \n",
       "0    23048.529011        0.363137  \n",
       "6    23202.926270        0.363107  \n",
       "14   23327.006742        0.369882  \n",
       "2    32046.676879        0.639656  \n",
       "5    33596.202544        0.684666  "
      ]
     },
     "execution_count": 590,
     "metadata": {},
     "output_type": "execute_result"
    }
   ],
   "source": [
    "results_df = pd.DataFrame(random_search_cat.cv_results_)\n",
    "\n",
    "# Ubah nilai negatif ke positif untuk interpretasi RMSE, MAE, MAPE\n",
    "results_df['mean_test_RMSE'] = -results_df['mean_test_neg_root_mean_squared_error']\n",
    "results_df['mean_test_MAE'] = -results_df['mean_test_neg_mean_absolute_error']\n",
    "results_df['mean_test_MAPE'] = -results_df['mean_test_neg_mean_absolute_percentage_error']\n",
    "\n",
    "# Sort berdasarkan RMSE → MAE → MAPE\n",
    "sorted_results = results_df.sort_values(\n",
    "    by=['mean_test_RMSE', 'mean_test_MAE', 'mean_test_MAPE']\n",
    ")[\n",
    "    ['params', 'mean_test_RMSE', 'mean_test_MAE', 'mean_test_MAPE']\n",
    "]\n",
    "\n",
    "sorted_results"
   ]
  },
  {
   "cell_type": "code",
   "execution_count": 591,
   "id": "9b0648c8",
   "metadata": {},
   "outputs": [
    {
     "name": "stdout",
     "output_type": "stream",
     "text": [
      "Best Parameters for CatBoost:\n",
      "{'model__learning_rate': 0.1, 'model__l2_leaf_reg': 3, 'model__iterations': 500, 'model__depth': 8, 'model__border_count': 32}\n",
      "Best MAPE Score:\n",
      "30342.256954711705\n"
     ]
    }
   ],
   "source": [
    "print(\"Best Parameters for CatBoost:\")\n",
    "print(random_search_cat.best_params_)\n",
    "\n",
    "print(\"Best MAPE Score:\")\n",
    "print(-random_search_cat.best_score_)"
   ]
  },
  {
   "cell_type": "code",
   "execution_count": 592,
   "id": "513214c9",
   "metadata": {},
   "outputs": [
    {
     "name": "stdout",
     "output_type": "stream",
     "text": [
      "📌 Best Parameters for CatBoost:\n",
      "{'model__learning_rate': 0.1, 'model__l2_leaf_reg': 3, 'model__iterations': 500, 'model__depth': 8, 'model__border_count': 32}\n",
      "\n",
      "📊 Evaluation on Test Set:\n",
      "RMSE : 33449.61\n",
      "MAE  : 16113.83\n",
      "MAPE : 24.61%\n"
     ]
    }
   ],
   "source": [
    "# Gunakan best estimator dari hasil tuning\n",
    "best_catboost = random_search_cat.best_estimator_\n",
    "\n",
    "# Prediksi pada data test\n",
    "y_pred = best_catboost.predict(X_test)\n",
    "\n",
    "# Hitung metrik\n",
    "rmse = np.sqrt(mean_squared_error(y_test, y_pred))\n",
    "mae = mean_absolute_error(y_test, y_pred)\n",
    "mape = mean_absolute_percentage_error(y_test, y_pred)\n",
    "\n",
    "# Tampilkan hasil\n",
    "print(\"📌 Best Parameters for CatBoost:\")\n",
    "print(random_search_cat.best_params_)\n",
    "\n",
    "print(\"\\n📊 Evaluation on Test Set:\")\n",
    "print(f\"RMSE : {rmse:.2f}\")\n",
    "print(f\"MAE  : {mae:.2f}\")\n",
    "print(f\"MAPE : {mape:.2%}\") "
   ]
  },
  {
   "cell_type": "markdown",
   "id": "5a485875",
   "metadata": {},
   "source": [
    "**Predict to Test Set with the Tuned Model**\n",
    "\n",
    "Melakukan prediksi pada test set dengan menggunakan model **CatBoost** dan hyperparameter terpilih."
   ]
  },
  {
   "cell_type": "code",
   "execution_count": 593,
   "id": "43035055",
   "metadata": {},
   "outputs": [],
   "source": [
    "# Model CatBoost\n",
    "model = {'CatBoost': CatBoostRegressor(random_state=1)}\n",
    "\n",
    "# Ambil best estimator dari hasil tuning\n",
    "catboost_tuning = random_search_cat.best_estimator_\n",
    "\n",
    "# Fitting model terbaik ke training set\n",
    "catboost_tuning.fit(X_train, y_train)\n",
    "\n",
    "# Prediksi test set\n",
    "y_pred_catboost_tuning = catboost_tuning.predict(X_test)\n",
    "\n",
    "# Hitung metrik evaluasi\n",
    "rmse_catboost_tuning = np.sqrt(mean_squared_error(y_test, y_pred_catboost_tuning))\n",
    "mae_catboost_tuning = mean_absolute_error(y_test, y_pred_catboost_tuning)\n",
    "mape_catboost_tuning = mean_absolute_percentage_error(y_test, y_pred_catboost_tuning)\n",
    "\n",
    "# Simpan skor ke DataFrame\n",
    "score_after_tuning = pd.DataFrame({\n",
    "    'RMSE': [rmse_catboost_tuning],\n",
    "    'MAE': [mae_catboost_tuning],\n",
    "    'MAPE': [mape_catboost_tuning]\n",
    "}, index=model.keys())"
   ]
  },
  {
   "cell_type": "markdown",
   "id": "127a7d5f",
   "metadata": {},
   "source": [
    "**Performance Comparison**\n",
    "\n",
    "Perbandingan performa model **CatBoost** sebelum dan sesudah dilakukan hyperparameter tuning."
   ]
  },
  {
   "cell_type": "code",
   "execution_count": 594,
   "id": "e1b65bff",
   "metadata": {},
   "outputs": [
    {
     "name": "stdout",
     "output_type": "stream",
     "text": [
      "=== METRIK SEBELUM TUNING ===\n",
      "RMSE : 35274.27\n",
      "MAE  : 17470.18\n",
      "MAPE : 26.22%\n",
      "\n",
      "=== METRIK SESUDAH TUNING ===\n",
      "RMSE : 33449.61\n",
      "MAE  : 16113.83\n",
      "MAPE : 24.61%\n"
     ]
    }
   ],
   "source": [
    "print(\"=== METRIK SEBELUM TUNING ===\")\n",
    "print(f\"RMSE : {score_before_tuning.loc['CatBoost', 'RMSE']:.2f}\")\n",
    "print(f\"MAE  : {score_before_tuning.loc['CatBoost', 'MAE']:.2f}\")\n",
    "print(f\"MAPE : {score_before_tuning.loc['CatBoost', 'MAPE']:.2%}\")\n",
    "\n",
    "print(\"\\n=== METRIK SESUDAH TUNING ===\")\n",
    "print(f\"RMSE : {score_after_tuning.loc['CatBoost', 'RMSE']:.2f}\")\n",
    "print(f\"MAE  : {score_after_tuning.loc['CatBoost', 'MAE']:.2f}\")\n",
    "print(f\"MAPE : {score_after_tuning.loc['CatBoost', 'MAPE']:.2%}\")"
   ]
  },
  {
   "cell_type": "markdown",
   "id": "67c3783e",
   "metadata": {},
   "source": [
    "Model mengalami sedikit peningkatan performa (nilai RMSE, MAE & MAPE berkurang) dengan dilakukannya hyperparameter tuning."
   ]
  },
  {
   "cell_type": "code",
   "execution_count": 595,
   "id": "d25de400",
   "metadata": {},
   "outputs": [
    {
     "data": {
      "image/png": "[encoded data removed]",
      "text/plain": [
       "<Figure size 1400x800 with 1 Axes>"
      ]
     },
     "metadata": {},
     "output_type": "display_data"
    }
   ],
   "source": [
    "plt.figure(figsize=(14, 8))\n",
    "\n",
    "# Scatter plot\n",
    "sns.scatterplot(x=y_test, y=y_pred_catboost_tuning)\n",
    "\n",
    "# Judul dan label\n",
    "plt.title('Actual vs. Predicted Price with Parallel Error Bands')\n",
    "plt.xlabel('Actual Price')\n",
    "plt.ylabel('Predicted Price')\n",
    "\n",
    "# Tentukan batas sumbu\n",
    "min_val = min(min(y_test), min(y_pred_catboost_tuning))\n",
    "max_val = max(max(y_test), max(y_pred_catboost_tuning))\n",
    "plt.xlim(min_val, max_val)\n",
    "plt.ylim(min_val, max_val)\n",
    "\n",
    "# Garis ideal (y = x)\n",
    "plt.plot([min_val, max_val], [min_val, max_val], color='black', label='Perfect Prediction')\n",
    "\n",
    "# Garis sejajar ±20% dari total range Y\n",
    "offset = 0.2 * (max_val - min_val)\n",
    "plt.plot([min_val, max_val], [min_val + offset, max_val + offset], color='gray', linestyle='--', label='+20% Offset')\n",
    "plt.plot([min_val, max_val], [min_val - offset, max_val - offset], color='gray', linestyle='--', label='-20% Offset')\n",
    "\n",
    "# Tambahkan legenda dan grid\n",
    "plt.legend()\n",
    "plt.grid(True)\n",
    "plt.show()"
   ]
  },
  {
   "cell_type": "markdown",
   "id": "d5eff72b",
   "metadata": {},
   "source": [
    "Offset error yang digunakan adalah **20%**, error offset ini didapat melalui perbandingan beberapa mobil dengan model yang sama pada website [syarah.com](https://syarah.com/en/filters?make_id=4&condition_id=0&year_from=2020&year_to=2020&model_id=9) dan juga [competitor](https://ksa.hatla2ee.com/en/car/toyota/corolla/6966755). Dimana mendapatkan perbedaan harga dari range 10-30%, maka diambil nilai tengahnya sebesar 20%.\n",
    "\n",
    "**Tren Model**\n",
    "- Titik-titik mengikuti pola linear positif → saat harga aktual naik, prediksi juga naik.\n",
    "- Ini menunjukkan model sudah menangkap hubungan antara fitur dan harga.\n",
    "\n",
    "**Penyebaran Error**\n",
    "- Harga tinggi → Beberapa titik keluar dari batas ±20%, pada range harga (>300.000 SAR), menunjukkan penurunan akurasi pada harga mahal.(Kalau diliat dari dataset, mobil dengan harga tinggi tidak banyak sehingga model susah pelajari hal ini)\n",
    "- Harga rendah → prediksi cukup rapat.\n"
   ]
  },
  {
   "cell_type": "markdown",
   "id": "622a5cfe",
   "metadata": {},
   "source": [
    "**Feature Importances**"
   ]
  },
  {
   "cell_type": "markdown",
   "id": "36ae8922",
   "metadata": {},
   "source": [
    "Untuk dapat mengetahui sebenarnya fitur apa saja yang sangat memengaruhi target (price), kita dapat mengeceknya melalui function feature_importances_."
   ]
  },
  {
   "cell_type": "code",
   "execution_count": 596,
   "id": "e90ca9a3",
   "metadata": {},
   "outputs": [
    {
     "data": {
      "image/png": "[encoded data removed]",
      "text/plain": [
       "<Figure size 640x480 with 1 Axes>"
      ]
     },
     "metadata": {},
     "output_type": "display_data"
    }
   ],
   "source": [
    "feature_names = catboost_tuning.named_steps['preprocessing'].get_feature_names_out()\n",
    "\n",
    "feature_imp = pd.Series(\n",
    "    catboost_tuning.named_steps['model'].feature_importances_,\n",
    "    index=feature_names\n",
    ").sort_values(ascending=False).head(10)\n",
    "\n",
    "feature_imp.plot(kind='barh', title='Top 10 Feature Importances');\n"
   ]
  },
  {
   "cell_type": "markdown",
   "id": "639e3391",
   "metadata": {},
   "source": [
    "- Engine_Size (remainder__Engine_Size)\n",
    "    → Fitur paling berpengaruh. Artinya, ukuran mesin mobil adalah indikator kuat dalam menentukan harga mobil bekas.\n",
    "- Year (remainder__Year)\n",
    "    → Semakin baru tahun produksinya, biasanya harga semakin tinggi. Ini juga masuk akal secara bisnis.\n",
    "- Options (ordinal_options__Options) dan Mileage juga cukup penting:\n",
    "    →Banyak fitur tambahan (Options) dan jarak tempuh (Mileage) sering dikaitkan langsung dengan kondisi dan daya tarik mobil.\n",
    "- Make (binary_large_Make_2)\n",
    "    → Beberapa produsen mobil juga menjadi salah satu feature terpenting dalam menentukan harga mobil bekas."
   ]
  },
  {
   "cell_type": "markdown",
   "id": "40b0570f",
   "metadata": {},
   "source": [
    "### **Conclusion**"
   ]
  },
  {
   "cell_type": "markdown",
   "id": "a7d08b12",
   "metadata": {},
   "source": [
    "Berdasarkan analisis feature importance dari model CatBoost, fitur-fitur yang paling berpengaruh terhadap prediksi harga mobil bekas di Arab Saudi adalah **Engine Size**, **Year**, **Make(hasil encoding)**,**Options** dan **Mileage**\n",
    "\n",
    "Model ini beguna untuk :\n",
    "\n",
    "- **Memprediksi harga wajar mobil bekas**, membantu pengguna dalam proses jual-beli (baik dealer maupun individu).\n",
    "- **Memberi dasar keputusan lebih objektif**, sehingga mengurangi risiko undervaluation atau overpricing.\n",
    "- Dengan menampilkan rentang error (±20%) dan visualisasi prediksi vs. aktual, pengguna bisa memahami akurasi model secara visual, ini bisa **mendatangkan customer karena customer bisa lebih percaya atau memiliki trust terhadap stakeholder** yang menggunakan fitur ini (prediksi harga mobil).\n",
    "\n",
    "Evaluasi Performa Model :\n",
    "\n",
    "**RMSE    33,449.61 SAR**\n",
    "    \n",
    "Rata-rata kesalahan prediksi model adalah sekitar 33 ribu Riyal, dan karena ini Root Mean Squared Error, maka kesalahan besar lebih diperberat. Ini menunjukkan ada beberapa prediksi yang jauh meleset (outlier), terutama pada harga mobil mahal.\n",
    "\n",
    "**MAE \t16,113.83 SAR**\t\n",
    "\n",
    "Rata-rata selisih absolut antara harga aktual dan prediksi adalah sekitar 16 ribu Riyal. Ini adalah ukuran kesalahan yang lebih stabil dan tidak terlalu sensitif terhadap outlier seperti RMSE.\n",
    "\n",
    "**MAPE\t24.61%**\n",
    "\n",
    "Secara rata-rata, prediksi model meleset sebesar 24.61% dari harga aslinya. Misalnya jika harga mobil sebenarnya SAR 100,000, maka prediksi model bisa saja berada di kisaran SAR 75,000 – 125,000. \n",
    "\n",
    "Pada case ini MAPE cukup dekat dengan rata-rata selisih harga dari harga mobil di syarah.com dan competitornya, yakni 10-30%. Meski begitu MAPE masih diatas nilai tengah (20%), sehingga model masih terbuka untuk diperbaiki lagi hingga bisa sampai 20% atau kurang dari. Model catboost ini dapat dituning lebih lanjut misalnya pada parameternya, ataupun perbaikan pada data dengan cara menambah fitur yang bisa membantu prediksi atau membersihkan data dari anomali berdasarkan domain knowledge yang bisa dipelajari ataupun dikordinasikan dengan expertise.\n",
    "\n"
   ]
  },
  {
   "cell_type": "markdown",
   "id": "d4dc2664",
   "metadata": {},
   "source": [
    "### **Recommendations**"
   ]
  },
  {
   "cell_type": "markdown",
   "id": "0ef13155",
   "metadata": {},
   "source": [
    "**Lakukan A/B Testing Model**, bisa dilakukan setelah melakukan tuning yang berbeda terhadap model ataupun melakukan perbaikan data atau feature engineering lebih lanjut, baru setelahnya dibuat perbandingan melalui metrics RMSE, MAE, ataupun MAPEnya.  \n",
    "\n",
    "**Perluas Fitur Saat Pengumpulan Data**, seperti kondisi mobil, accident history, riwayat servis, tangan ke berapa, warna, dan lainnya yang bisa ditanyakan kepada expertise dibidang jual beli mobil.\n",
    "\n",
    "**Eksplorasi Kegunaan Lain Model Ini**, misalnya estimasi depresiasi nilai mobil per tahun, rekomendasi harga pasang iklan, pendeteksi harga tidak wajar (ini bisa mencegah salah listing ataupun penipuan).\n",
    "\n",
    "Untuk estimasi kasual/awal oleh pengguna umum, model sudah cukup layak digunakan. Namun untuk penggunaan komersial skala besar (seperti dealer resmi atau integrasi langsung ke e-commerce mobil), **model sebaiknya dilatih ulang** dengan fitur tambahan, tuningnya disempurnakan, diuji di data baru secara berkala. Agar ketika nantinya ingin menggunakan fitur prediksi harga pada stakeholder, alih-alih mendapatkan trust customer, model yang prediksinya belum benar-benar akurat (dalam konteks ini masih 24% dari 10-30%) dikhawatirkan dapat menjadi backfire. Dimana user malah akan jadi ragu dikarenakan stakeholder menggunakan sistem prediksi harga yang tidak akurat, dampaknya bisa kehilangan user ataupun kehilangan trust user.\n",
    "\n",
    "Kesalahan terbesar terjadi pada mobil dengan harga tinggi (>300,000 SAR).\n",
    "- Menambah sampel pada segmen mobil mewah/premium.\n",
    "- Tambah fitur: misalnya fitur spesifik untuk mobil mahal/premium seperti \"imported\", \"accident history\", atau \"luxury package\".\n",
    "- Evaluasi apakah harga tersebut terlalu dipengaruhi oleh faktor yang belum terekam di dataset (missing features).\n",
    "\n"
   ]
  }
 ],
 "metadata": {
  "kernelspec": {
   "display_name": "Python 3",
   "language": "python",
   "name": "python3"
  },
  "language_info": {
   "codemirror_mode": {
    "name": "ipython",
    "version": 3
   },
   "file_extension": ".py",
   "mimetype": "text/x-python",
   "name": "python",
   "nbconvert_exporter": "python",
   "pygments_lexer": "ipython3",
   "version": "3.13.3"
  }
 },
 "nbformat": 4,
 "nbformat_minor": 5
}
